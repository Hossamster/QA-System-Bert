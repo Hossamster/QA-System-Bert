{
 "cells": [
  {
   "cell_type": "code",
   "execution_count": 1,
   "metadata": {},
   "outputs": [],
   "source": [
    "# read sample data"
   ]
  },
  {
   "cell_type": "code",
   "execution_count": 2,
   "metadata": {},
   "outputs": [],
   "source": [
    "import pandas as pd \n",
    "df = pd.read_csv(r'D:\\BUE\\GP\\testing\\Final_CORD_19_data.csv')\n",
    "# df = pd.read_csv(r'C:\\Users\\Hossam\\Desktop\\Covid Q&A System Udemy Course-20230508T070437Z-001\\Covid Q_A System Udemy Course\\Section 3 Data Pre-Processing\\FINAL_CORD_DATA.csv')"
   ]
  },
  {
   "cell_type": "code",
   "execution_count": 3,
   "metadata": {},
   "outputs": [],
   "source": [
    "# !pip3 install pandas==1.3.1\n",
    "# !pip3 install numpy==1.21.1"
   ]
  },
  {
   "cell_type": "code",
   "execution_count": 4,
   "metadata": {},
   "outputs": [
    {
     "data": {
      "text/plain": [
       "(22301, 7)"
      ]
     },
     "execution_count": 4,
     "metadata": {},
     "output_type": "execute_result"
    }
   ],
   "source": [
    "df.shape"
   ]
  },
  {
   "cell_type": "code",
   "execution_count": 5,
   "metadata": {},
   "outputs": [
    {
     "data": {
      "text/html": [
       "<div>\n",
       "<style scoped>\n",
       "    .dataframe tbody tr th:only-of-type {\n",
       "        vertical-align: middle;\n",
       "    }\n",
       "\n",
       "    .dataframe tbody tr th {\n",
       "        vertical-align: top;\n",
       "    }\n",
       "\n",
       "    .dataframe thead th {\n",
       "        text-align: right;\n",
       "    }\n",
       "</style>\n",
       "<table border=\"1\" class=\"dataframe\">\n",
       "  <thead>\n",
       "    <tr style=\"text-align: right;\">\n",
       "      <th></th>\n",
       "      <th>sha</th>\n",
       "      <th>title</th>\n",
       "      <th>abstract</th>\n",
       "      <th>publish_time</th>\n",
       "      <th>authors</th>\n",
       "      <th>url</th>\n",
       "      <th>body_text</th>\n",
       "    </tr>\n",
       "  </thead>\n",
       "  <tbody>\n",
       "    <tr>\n",
       "      <th>0</th>\n",
       "      <td>bb9e6ed5c0e9de74bfd98b8311b446cb3d9384bf</td>\n",
       "      <td>SARS-CoV-2 Infection in Kidney Transplant Reci...</td>\n",
       "      <td>INTRODUCTION: The second wave of COVID-19 has ...</td>\n",
       "      <td>2021-11-05</td>\n",
       "      <td>Tatapudi, Ravi Raju; Kopparti, Venkateswara Ra...</td>\n",
       "      <td>https://www.ncbi.nlm.nih.gov/pubmed/34745662/;...</td>\n",
       "      <td>Severe acute respiratory syndrome corona virus...</td>\n",
       "    </tr>\n",
       "    <tr>\n",
       "      <th>1</th>\n",
       "      <td>758f8b07a1fdd2360cfe66f478150eedc23f602e</td>\n",
       "      <td>Genomic and Ancestral Variation Underlies the ...</td>\n",
       "      <td>The coronavirus disease (COVID-19) caused by t...</td>\n",
       "      <td>2021-09-05</td>\n",
       "      <td>Upadhyai, Priyanka; Suresh, Gokul; Parit, Rahu...</td>\n",
       "      <td>https://doi.org/10.3390/life11090921; https://...</td>\n",
       "      <td>Since its outbreak in December 2019 in Wuhan, ...</td>\n",
       "    </tr>\n",
       "    <tr>\n",
       "      <th>2</th>\n",
       "      <td>a15ab5fcb5810f915d264d821083e15b4a85da8a</td>\n",
       "      <td>Stochastic subgradient for composite convex op...</td>\n",
       "      <td>In this paper we consider optimization problem...</td>\n",
       "      <td>2022-04-18</td>\n",
       "      <td>Necoara, Ion; Singh, Nitesh Kumar</td>\n",
       "      <td>https://arxiv.org/pdf/2204.08204v1.pdf</td>\n",
       "      <td>The large sum of functions in the objective fu...</td>\n",
       "    </tr>\n",
       "    <tr>\n",
       "      <th>3</th>\n",
       "      <td>8dfddaea9bf1b9cdba23904c60907e1b1a1559a2</td>\n",
       "      <td>Ascending Aortic Calcification as a Potential ...</td>\n",
       "      <td>BACKGROUND: Identifying the factors related to...</td>\n",
       "      <td>2021-05-26</td>\n",
       "      <td>Bekki, Hirofumi; Arizono, Takeshi; Suzuki, Yuk...</td>\n",
       "      <td>https://doi.org/10.1155/2021/5526359; https://...</td>\n",
       "      <td>Hip fractures are a severe health problem in p...</td>\n",
       "    </tr>\n",
       "    <tr>\n",
       "      <th>4</th>\n",
       "      <td>e6ab92529dce158c7046d4d4adba4b998eca9179</td>\n",
       "      <td>Universal Early Coarsening of Quenched Bose Gases</td>\n",
       "      <td>We investigate the early coarsening dynamics o...</td>\n",
       "      <td>2021-12-10</td>\n",
       "      <td>Goo, Junhong; Lee, Yangheon; Lim, Younghoon; B...</td>\n",
       "      <td>https://www.ncbi.nlm.nih.gov/pubmed/35426709/;...</td>\n",
       "      <td>When a system crosses a symmetry-breaking phas...</td>\n",
       "    </tr>\n",
       "  </tbody>\n",
       "</table>\n",
       "</div>"
      ],
      "text/plain": [
       "                                        sha  \\\n",
       "0  bb9e6ed5c0e9de74bfd98b8311b446cb3d9384bf   \n",
       "1  758f8b07a1fdd2360cfe66f478150eedc23f602e   \n",
       "2  a15ab5fcb5810f915d264d821083e15b4a85da8a   \n",
       "3  8dfddaea9bf1b9cdba23904c60907e1b1a1559a2   \n",
       "4  e6ab92529dce158c7046d4d4adba4b998eca9179   \n",
       "\n",
       "                                               title  \\\n",
       "0  SARS-CoV-2 Infection in Kidney Transplant Reci...   \n",
       "1  Genomic and Ancestral Variation Underlies the ...   \n",
       "2  Stochastic subgradient for composite convex op...   \n",
       "3  Ascending Aortic Calcification as a Potential ...   \n",
       "4  Universal Early Coarsening of Quenched Bose Gases   \n",
       "\n",
       "                                            abstract publish_time  \\\n",
       "0  INTRODUCTION: The second wave of COVID-19 has ...   2021-11-05   \n",
       "1  The coronavirus disease (COVID-19) caused by t...   2021-09-05   \n",
       "2  In this paper we consider optimization problem...   2022-04-18   \n",
       "3  BACKGROUND: Identifying the factors related to...   2021-05-26   \n",
       "4  We investigate the early coarsening dynamics o...   2021-12-10   \n",
       "\n",
       "                                             authors  \\\n",
       "0  Tatapudi, Ravi Raju; Kopparti, Venkateswara Ra...   \n",
       "1  Upadhyai, Priyanka; Suresh, Gokul; Parit, Rahu...   \n",
       "2                  Necoara, Ion; Singh, Nitesh Kumar   \n",
       "3  Bekki, Hirofumi; Arizono, Takeshi; Suzuki, Yuk...   \n",
       "4  Goo, Junhong; Lee, Yangheon; Lim, Younghoon; B...   \n",
       "\n",
       "                                                 url  \\\n",
       "0  https://www.ncbi.nlm.nih.gov/pubmed/34745662/;...   \n",
       "1  https://doi.org/10.3390/life11090921; https://...   \n",
       "2             https://arxiv.org/pdf/2204.08204v1.pdf   \n",
       "3  https://doi.org/10.1155/2021/5526359; https://...   \n",
       "4  https://www.ncbi.nlm.nih.gov/pubmed/35426709/;...   \n",
       "\n",
       "                                           body_text  \n",
       "0  Severe acute respiratory syndrome corona virus...  \n",
       "1  Since its outbreak in December 2019 in Wuhan, ...  \n",
       "2  The large sum of functions in the objective fu...  \n",
       "3  Hip fractures are a severe health problem in p...  \n",
       "4  When a system crosses a symmetry-breaking phas...  "
      ]
     },
     "execution_count": 5,
     "metadata": {},
     "output_type": "execute_result"
    }
   ],
   "source": [
    "df.head()"
   ]
  },
  {
   "cell_type": "code",
   "execution_count": 6,
   "metadata": {},
   "outputs": [
    {
     "data": {
      "text/plain": [
       "sha               0\n",
       "title             0\n",
       "abstract          0\n",
       "publish_time      0\n",
       "authors         114\n",
       "url               0\n",
       "body_text         1\n",
       "dtype: int64"
      ]
     },
     "execution_count": 6,
     "metadata": {},
     "output_type": "execute_result"
    }
   ],
   "source": [
    "df.isnull().sum()"
   ]
  },
  {
   "cell_type": "code",
   "execution_count": 7,
   "metadata": {},
   "outputs": [],
   "source": [
    "df = df.dropna(subset=['authors'])"
   ]
  },
  {
   "cell_type": "code",
   "execution_count": 8,
   "metadata": {},
   "outputs": [
    {
     "data": {
      "text/plain": [
       "'Tatapudi, Ravi Raju; Kopparti, Venkateswara Rao; Poosapati, Anusha; Metta, Srinivas; Gongada, Atchyutha Rao; Vedulla, Balakrishna'"
      ]
     },
     "execution_count": 8,
     "metadata": {},
     "output_type": "execute_result"
    }
   ],
   "source": [
    "df['authors'][0]"
   ]
  },
  {
   "cell_type": "code",
   "execution_count": 9,
   "metadata": {},
   "outputs": [],
   "source": [
    "# Function to extract the first four authors\n",
    "def extract_first_four(authors_string):\n",
    "    authors_list = [author.strip() for author in authors_string.split(';')]\n",
    "    first_four_authors = []\n",
    "    for author in authors_list:\n",
    "        names = [name.strip() for name in author.split(',')][:4]\n",
    "        first_four_authors.extend(names)\n",
    "    first_four_authors = first_four_authors[:4]\n",
    "    return first_four_authors"
   ]
  },
  {
   "cell_type": "code",
   "execution_count": 10,
   "metadata": {},
   "outputs": [],
   "source": [
    "# Apply the function to the 'Authors' column\n",
    "df['authors'] = df['authors'].apply(extract_first_four)"
   ]
  },
  {
   "cell_type": "code",
   "execution_count": 11,
   "metadata": {},
   "outputs": [
    {
     "data": {
      "text/plain": [
       "['Bekki', 'Hirofumi', 'Arizono', 'Takeshi']"
      ]
     },
     "execution_count": 11,
     "metadata": {},
     "output_type": "execute_result"
    }
   ],
   "source": [
    "df['authors'][3]"
   ]
  },
  {
   "cell_type": "code",
   "execution_count": 12,
   "metadata": {},
   "outputs": [],
   "source": [
    "dicts = df.to_dict('records')"
   ]
  },
  {
   "cell_type": "code",
   "execution_count": 13,
   "metadata": {},
   "outputs": [
    {
     "data": {
      "text/plain": [
       "(22187, 7)"
      ]
     },
     "execution_count": 13,
     "metadata": {},
     "output_type": "execute_result"
    }
   ],
   "source": [
    "df.shape"
   ]
  },
  {
   "cell_type": "code",
   "execution_count": 14,
   "metadata": {},
   "outputs": [
    {
     "data": {
      "text/plain": [
       "{'sha': 'bb9e6ed5c0e9de74bfd98b8311b446cb3d9384bf',\n",
       " 'title': 'SARS-CoV-2 Infection in Kidney Transplant Recipients: A Single-Centre Study of 20 Cases from India',\n",
       " 'abstract': 'INTRODUCTION: The second wave of COVID-19 has spread across India causing unprecedented misery to people since March 2021. Kidney transplant recipients (KTRs) are at an increased risk of severe infection. Their outcomes appear to be worse than those in the general population. There is no robust evidence or consensus to support any form of treatment protocol or modification of immunosuppression in KTRs with COVID-19. There is a need to develop effective and safe therapeutic protocols for this frail population. Remdesivir is the only approved antiviral drug in COVID-19 till now. METHODS: We describe clinical features, role of HRCT, therapeutic protocols, and mortality rate of 20 KTRs with SARS-CoV-2 infection. RESULTS: Complete recovery was seen in 8 (40%) patients monitored at home. 12 (60%) patients with HRCT scores more than 8/25 were hospitalized. 11 (55%) had hypoxia, of these 8 (40%) had mild hypoxia, 1 (5%) required NIV, and 2 (10%) needed mechanical ventilation. Immunosuppression was modified in all the patients. Remdesivir and dexamethasone were administered to the hospitalized patients. 1 (5%) patient had AKI requiring RRT. 1 (5%) patient expired, and 1 still hospitalized. 10 of the hospitalized patients recovered. Out of the total 20 patients, 18 (90%) recovered completely within two weeks of infection. CONCLUSION: Clinical presentation of COVID-19 in KTRs was similar to nontransplant patients. Early hospitalisation and assessing the severity by HRCT were important. Continuing tacrolimus and administering remdesivir and dexamethasone reduced the incidence of renal failure and improved survival rates.',\n",
       " 'publish_time': '2021-11-05',\n",
       " 'authors': ['Tatapudi', 'Ravi Raju', 'Kopparti', 'Venkateswara Rao'],\n",
       " 'url': 'https://www.ncbi.nlm.nih.gov/pubmed/34745662/; https://doi.org/10.1155/2021/2243095',\n",
       " 'body_text': \"Severe acute respiratory syndrome corona virus 2 (SARS-CoV-2) causing COVID-19 has resulted in a global pandemic since March 2020 [1]. In India, after the first case was reported in Kerala state, COVID-19 has rapidly spread across the country, and the first wave lasted till November 2020. After a lull, there was again a rapid surge in the number of cases from February 2021, reaching an unprecedented number of more than 400,000 cases and 4000 deaths per day. There was a significant increase in mortality as the second wave spiralled out of control. An avalanche of COVID-19 cases choked the health care system and crippled infrastructural facilities such as oxygen supply and availability of beds in hospitals. The second wave in India is due to the corona virus variant B-1.617 [2]. The overall fatality rate in southern states of India was 2.06% during the first wave [3]. Mortality was higher in patients with comorbidities. The most prevalent comorbid conditions among decedents were diabetes (45%) and hypertension (36.2%) [3]. In fatal cases between the ages of 18 and 29 years, renal disease was more prevalent [3].$$$Kidney transplant recipients (KTRs) constitute a special group and are considered to be more susceptible to SARS-CoV-2 infection and are at an increased risk of complications and mortality. This is due to chronic immunosuppressive therapy and associated comorbidities such as hypertension, diabetes, chronic kidney disease (CKD), and coronary artery disease [3, 4]. There is paucity of data regarding incidence, clinical picture, and outcome of COVID-19 among KTRs. Initial results from USA, Italy, and Spain reported a mortality of 20–28% in hospitalized KTRs [5–8]. There is no such published data in India regarding KTRs during the second wave and in those who received vaccination.$$$Effective treatment for COVID-19 is currently unknown [5], and there are no standardized guidelines for the treatment of infection and modification of immunosuppression regimens in these individuals. In this study, we reported the clinical features, management strategies, and outcomes of KTRs affected by COVID-19 during the ongoing pandemic. To the best of our knowledge, this is the first study from India where uniform diagnostic and treatment regimens were adopted for the management of KTRs with COVID-19 during the second wave. Primary outcomes of our study were efficacy and treatment safety, recovery, and mortality rates. Secondary outcomes of the study were necessity and mode of oxygen therapy and duration of hospital stay.$$$Kidney transplant recipients who had COVID-19 during the months of March, April, and May 2021 were included in this cohort study. These patients underwent transplantation at our centre within the last 22 years. Diagnosis of COVID-19 was confirmed by real-time reverse transcriptase polymerase chain reaction (RT-PCR) from nasopharyngeal swab. Detailed history and comorbidities were recorded. Clinical symptoms, temperature, and SpO2 were noted in all the patients. Renal function tests, complete blood counts, liver function tests, LDH, ferritin, C-reactive protein, D-dimers, procalcitonin, and IL-6 were performed once in four days. Tacrolimus trough levels were checked periodically. HRCT of the chest was done at admission and subsequently depending on the clinical need. High-resolution computed tomography (HRCT) severity score was reported by the radiologist in the hospital. We adopted COVID-19 Reporting and Data System (CO-RADS) for assessing pulmonary involvement on unenhanced chest CT images and 25-point CT severity score or total severity score (TSS) method. Basing on the severity score, we divided our patients into three groups. Mild severity was TSS less than 8/25, moderate severity was (9–18)/25, and (19–25)/25 was severe [9–11].$$$Patients with mild clinical symptoms of low-grade fever, cough, minor changes in haematological parameters and inflammatory markers, and normal SpO2 were monitored at home and were treated with paracetamol, doxycycline, and vitamins. All 20 patients were continued on their earlier immunosuppressive medication with the following modification. We continued earlier maintenance dose of prednisolone, and tacrolimus dosage was adjusted by monitoring trough levels and maintaining at 4–6 ng/ml. Antimetabolites (mycophenolate mofetil sodium or azathioprine) were reduced by half or completely withdrawn in some patients.$$$Patients who clinically deteriorated during home treatment experienced breathlessness and had SpO2 less than 92% or showed a TSS higher than 8/25 on HRCT were hospitalized and treated by the following regimen. They were closely monitored for body temperature and SpO2 every 6 hours. All patients received supplemental doses of vitamins. Antibiotic use was limited to the patients with secondary infection. They were given remdesivir 200 mg on the first day followed by 100 mg for the next four to seven days and dexamethasone 6 mg intravenously for ten days. No dose adjustment was made for remdesivir, as all the patients had eGFR above 30 ml/min/1·73 m2. We did not use methyl prednisolone, lopinavir/ritonavir, hydroxychloroquine (HCQ), or azithromycin in any of our patients.$$$Prophylactic anticoagulation with enoxaparin 40 mg/day was administered subcutaneously for all those with elevated D-dimer levels. Following enoxaparin for 7–10 days, they were switched to oral anticoagulants. Basing on the oxygen requirement, they were given oxygen with non-rebreather mask (NRBM), high-flow nasal catheter (HFNC), or noninvasive ventilation (NIV). Oxygen saturation was maintained above 92% in all patients.$$$In this retrospective cohort study, we studied the clinical course and outcome of 20 kidney transplant recipients who had SARS-CoV-2 infection from March to May 2021. Infection in these patients was related to community exposure. The exact source and the time of exposure were unknown. The patients were conversant with COVID-19 appropriate behaviour. All had access to the nephrologist as they were under regular follow-up after transplantation.$$$All KTRs in the study underwent kidney transplantation at our centre within the last 22 years. Median time interval from transplantation to infection was 3 years. Period after transplant surgery was less than 3 months in 1, 1–10 years in 14, 10–20 years in 3, and more than 20 years in 2 patients. The time between onset of symptoms and presentation to the hospital was 2-3 days. Median age of patients in our cohort was 44 years. 10 (50%) patients were above 45 years, and 10 (50%) were below 45 years. The youngest was 9 years old, and the oldest patient was 63 years old. Male patients were 17 (85%), and females were 3 (15%). Four patients received both the doses of COVID-19 vaccination, and three received single dose (Table 1).$$$Comorbidities were present in all 20 (100%) patients. These included hypertension in 20 (100%), diabetes mellitus in 6 (30%), coronary artery disease in 2 (10%), CKD in 6 (30%), hepatitis C in 1 (5%), and BK virus nephropathy in 2 (10%). 8 (40%) patients had multiple comorbidities. In terms of kidney function, serum creatinine levels at the time of admission was at a median of 1·35 mg/dl.$$$1 patient had de novo DSA positive antibody-mediated rejection 3 months ago. She received 2 doses of intravenous immune globulin (IVIg), each 75 grams and 1 dose of rituximab. 2 patients had BK virus nephropathy. Their immunosuppression was minimized, and both had mild renal insufficiency with serum creatinine of 1.6 mg/dl.$$$Clinical symptoms were fever and cough in all the 20 (100%) patients, myalgias in 10 (50%), rhinorrhoea in 12 (60%), dyspnoea in 12 (60%), and diarrhoea in 6 (30%). 10 (50%) patients had loss of taste and smell (Table 2). There was lymphopenia in 11 (55%) patients with a median at 962·5 cells/cu.mm, elevated CRP in 15 (75%) with a median at 30·1 mg/ml, elevated D-dimer in 6 (30%) with a median at 1090 ng/ml, elevated IL-6 in 10 (50%) with a median at 16·5 ng/ml, elevated ferritin in 9 (45%) with a median at 357·8 ng/ml, and elevated LDH in 14 (70%) at 294·5 U/L. Procalcitonin greater than 0·9 ng/ml was noted in 1 (5%) patient (Table 3).$$$HRCT was done in all patients. 12 patients with HRCT severity scores of >8/25 were admitted in the hospital. Of these, 8 had a TSS of (8–18)/25, 4 had a TSS of more than 18/25, and all had SpO2 <90 requiring oxygen supplementation (Table 4).$$$All patients were continued on their regular antihypertensive and antidiabetic drugs. Tacrolimus was given in the same doses as before. 12 patients were started on dexamethasone 6 mg intravenously once daily. Remdesivir was given at a dose of 200 mg intravenously on the first day followed by 100 mg intravenously daily. 10 (84%) out of 12 patients received 5 doses of remdesivir. 2 patients received 8 doses of remdesivir. Single dose of tocilizumab 400 mg was given intravenously to 3 patients with high levels of IL-6 and hypoxia. Of the 3 patients, 1 recovered, 1 died, and 1 is on mechanical ventilation undergoing therapy in the intensive care unit. 12 patients with elevated D-dimer received enoxaparin 40 mg/day.$$$12 patients developed hypoxia with SpO2 <90 and were given oxygen supplementation. Out of which, 8 patients required oxygen with mask and 4 had escalated oxygen requirement who were treated with NRBM or HFNC. 2 of these patients worsened and were later intubated and mechanically ventilated.$$$10 patients had stable renal function throughout their hospital stay. 1 patient developed prerenal uraemia, serum creatinine increased to 3.6 mg/dl, and following correction of volume depletion, serum creatinine came down to 1·5 mg/dl. 1 patient who was treated for recent antibody-mediated rejection developed renal failure while on mechanical ventilation and required renal replacement therapy (RRT).$$$Mortality in the total cohort was 5% (1 out of 20). One hospitalized patient expired on the 6th day while on mechanical ventilation. He had coronary artery bypass graft (CABG) 5 years ago and had severe left ventricular (LV) dysfunction. 8 patients were discharged by 8 days, 2 patients were discharged by 14 days, and 1 is currently in the hospital. All had stable serum creatinine compared to their base line (Table 2).$$$We studied clinical features, management strategies, and outcomes of 20 kidney transplant recipients with SARS-CoV-2 infection, during the second wave of COVID-19 pandemic in India. Currently, there is limited knowledge regarding the treatment of COVID-19 in KTRs, and an effective treatment for this group is unknown [5, 12]. The continuation, proper dosage, and target levels of immunosuppressive drugs are still a matter of debate. Earlier analyses have shown unfavourable outcomes and high mortality in KTRs following SARS-CoV-2 infection [5, 8, 13, 14]. Caillard et al. reported that severe infection-related mortality was significantly higher in KTRs than in nontransplant patients (17·9% vs. 11·4%, p=0.038) [15].$$$We describe the clinical course of 20 KTRs with COVID-19. All of them underwent transplantation at our centre and were on regular follow-up. There was male preponderance (85%). The overall patient profile with regard to age and comorbidities appears to be similar to other studies [13, 16]. Living-related donor recipients were 17, and deceased donor recipients were 3. A majority of the kidney transplantations in our centre are live-related donor transplants.$$$All patients in the cohort presented with fever and cough, and COVID-19 symptoms were similar to those in the general population where 58–100% had fever, 42–100% had cough, 5–90% had dyspnea, and 5–90% had fatigue and myalgia [13, 14, 17]. Similar presentation was described in reports of Columbia University Transplant Program in New York [6] and single-centre Italian study of COVID-19 in KTRs [18]. Though the initial presentation was benign, 3 out of 11 patients in our study deteriorated fast, requiring hospitalisation and oxygen therapy. Other studies also reported a more rapid clinical progression than in general population [4].$$$Lymphopenia with reduction in absolute lymphocyte count was noticed in 11 (55%) patients. Lymphopenia was reported to be 83.2% in the infected patients by Guan et al. [19]. In general population with COVID-19, lymphopenia was observed in 63% of the patients. Other studies reported an association between lymphopenia, severity of the disease, acute respiratory distress syndrome (ARDS), and fatal outcome [20]. The cause of lymphopenia is not clear although lymphocytes have been shown to be the primary targets of SARS-CoV-2. In our study, 15 patients had elevated CRP levels. Wu et al. and Deng et al., in their studies on risk factors, have shown a strong association between elevated CRP and unfavourable outcomes including ARDS and death in COVID-19 patients [21, 22]. Though the relation between high levels of ferritin and severity of illness and death is not well established, some studies have shown that higher ferritin levels are associated with ARDS. In our cohort, serum ferritin levels were elevated in five patients. And in one, it was very high, and she developed respiratory distress, thus requiring mechanical ventilation. IL-6 was found to be consistently elevated in COVID-19 patients with respiratory failure [23]. Tocilizumab was shown to be associated with significantly improved survival of COVID-19 patients and rescued them from rapid death [23]. In our cohort, three patients with hypoxia and elevated IL-6 were given tocilizumab. Of these patients, one expired, and one is on mechanical ventilation. D-dimer was elevated in 6 (30%) of our patients, and all of them were given anticoagulant prophylaxis with enoxaparin. None of them had thrombotic complications during or after recovery. Yang et al. showed that D-dimer was elevated in those with severe symptoms and possible disseminated intravascular coagulation (DIC) [18, 19, 24].$$$All admitted patients had CT severity scores above 8/25. Some patients in the cohort had worsening of severity score on HRCT, and their oxygen requirement increased. Earlier reports of radiological data of COVID-19 focussed on CT findings of the chest [25–27]. Chest X-ray is employed as a first-line triage tool by the British and Italian hospitals [28, 29]. British Society of Thoracic Imaging has not recommended use of CT except in seriously ill patients [30]. We found that HRCT was useful for assessing the severity of lung involvement initially and for monitoring the progress of pneumonia and its response to treatment, similar to reported radiological data of COVID-19 [25–27]. Low-dose HRCT done after treatment showed significant reduction in severity score. 12 patients in our cohort were hypoxic and had moderate to severe pneumonia as per the CT severity score at a median of 6.5 days after the onset of initial symptoms.$$$Azithromycin, antiretroviral drugs (oseltamivir, ritonavir, darunavir, and lopinavir), and hydroxychloroquine (HCQ) were used extensively in KTRs with COVID-19 during the first wave of pandemic [8, 31]. In fact, lopinavir/ritonavir was used as the first-line drug in several countries [32]. In contrast, LPV/r monotherapy was reported to be ineffective in hospitalized COVID-19 patients by the ‘recovery trial' [33]. Protease inhibitors will enhance serum tacrolimus levels which in turn may prolong QT interval in a dose-dependent manner leading to fatal arrhythmias. Combination of azithromycin and hydroxychloroquine may also prolong corrected QT-interval [8, 34]. Hence, the drug combinations must be handled carefully to prevent drug interactions. Several centres stopped using these drugs in the treatment against COVID-19. Acute kidney injury (AKI) has been reported in COVID-19 patients due to virus-induced direct toxicity on proximal tubule epithelial cells, dehydration, volume depletion, cytokine release syndrome, and hemodynamic changes [34]. AKI has been reported in up to 15% of COVID-19 patients in general population [35]. In KTRs with COVID-19, 21–60% of the patients were noticed to have AKI, while 10% of them required RRT [36]. Kute et al. also reported high rates of AKI (48·4%) in their patients [13]. It is interesting to note that AKI was common in those patients who received lopinavir/ritonavir (25%). In their study, Alberici et al. reported that 6 out of 20 patients developed AKI and 1 required hemodialysis [8]. We believe that the incidence of AKI in our cohort was low (5%) as we have not used antiretroviral drugs, azithromycin, or HCQ in our patients.$$$Immunosuppression management in KTRs with COVID-19 is found to be challenging. All our KTRs were on triple immunosuppression with prednisolone, tacrolimus, and mycophenolate mofetil or azathioprine before the onset of infection. We stopped prednisolone and mycophenolate/azathioprine in all the hospitalized patients. In our cohort, one patient developed prerenal uraemia due to severe vomiting. His renal function improved following correction of volume depletion. The patient who was treated for ABMR (antibody-mediated rejection) during the past three months developed worsening of renal function after mechanical ventilation and required RRT. Rest of the patients had stable kidney function. We feel that higher incidence of AKI in the KTR group than in the nontransplant group might be due to the toxicity of lopinavir/ritonavir, supratherapeutic levels of tacrolimus caused by drug interaction, calcineurin inhibitor (CNI) toxicity, or acute rejection due to withdrawal of immunosuppression. In their short series, Elhadedy et al. showed that hospitalized KTRs with COVID-19 can be managed conservatively with oxygen supplementation and adjusting immunosuppression by withholding mycophenolate. However, they recommended the use of remdesivir in this group of patients as we have followed in our treatment regimen [20].$$$Remdesivir is a nucleoside analogue that inhibits viral RNA-dependant RNA polymerase, thus interfering with RNA replication. The Adaptive COVID-19 Treatment Trial (NCT04280705) demonstrated that 31% faster recovery time can be attained in remdesivir-treated patients when compared to controls [37]. US FDA has authorized the use of remdesivir as a treatment option for hospitalized COVID-19 patients. 12 patients in our cohort received 5–8 doses of remdesivir without any untoward effects. Their hepatic and kidney function remained stable. Tacrolimus trough levels were maintained at 4–6 ng/ml, and there was no nephrotoxicity due to supratherapeutic levels. Pettit et al. described that remdesivir-associated adverse effects occurred infrequently and with low severity and were not different in those with and without severe renal insufficiency [38]. Remdesivir has not been reported to cause any liver function abnormalities or any other major adverse events [39].$$$The Recovery Collaborative Group has shown that dexamethasone benefits hospitalized patients receiving oxygen therapy. As all our admitted patients were high-risk group and had moderate to severe pneumonia with or without oxygen supplementation, we gave them dexamethasone as per the protocol of Recovery Trial [33].$$$In three previous case series and one multicentre study, [4, 5, 8, 13] where KTRs with COVID-19 were treated with antiretroviral drugs and/or HCQ and azithromycin, the mortality ranged from 14.8% to 28%. In our study, 8 patients who were telemonitored at home had uneventful course and recovered in 8–10 days. Out of 12 hospitalized patients in our cohort, 10 (91·7%) patients recovered completely, 5 patients had a hospital stay of 8 days, and 5 were discharged on the 14th day. 2 patients were treated in ICU, 1 required noninvasive ventilation, and 1 required mechanical ventilation. 1 patient on NIV rapidly deteriorated in 6 hours required mechanical ventilation and expired. He had CABG 4 years prior to his kidney transplantation. Hence, we had a mortality rate of 5% in our cohort of 20 KTRs with COVID-19. The multicentre study from India reported an overall mortality of 14.8% in hospitalized patients [13]. 47% of their ICU patients and 97% of their mechanically ventilated patients expired [13]. The Columbia University Group Study reported a mortality of 25% in their cohort of KTRs with COVID-19 [5]. It will be meaningful if we compare them with mortality rates in general population with COVID-19. Mortality in our cohort of transplant recipients was comparable to nontransplant hospitalized patients.$$$It is very tempting to speculate the efficacy of our regimen in improving the outcomes of kidney transplant recipients with COVID-19 infection having moderate to severe pneumonia. As the immunosuppression is modulated and not completely withdrawn, there were no episodes of renal failure due to allograft rejection. All the patients had an eGFR >30 ml/min/1·73 m2, and remdesivir was given in normal doses.$$$Small sample size, short duration of the study, and limited period of follow up are limitations in the current study. The confounding factor in our study is dexamethasone, and one may attribute the benefit to dexamethasone alone.$$$We presented 20 kidney transplant recipients with SARS-CoV-2 infection. 12 of them were admitted to hospital. Their presenting symptoms were similar to COVID-19 in general population. There was rapid deterioration of some of these patients compared with COVID-19 patients in general population. HRCT was important in assessing the severity of pneumonia and decision regarding hospitalisation of patients. We believe home treatment is not safe as there are no definitive parameters to decide which of these patients are likely to develop complications requiring urgent hospitalisation. Early hospitalisation and aggressive management helped in reducing the mortality of KTRs. Uniform diagnostic approach and treatment plan has contributed to favourable outcome and recovery. Appropriate modification of immunosuppression and continuation of tacrolimus with monitoring of trough levels of the drug aided in the prevention of allograft rejection as well as CNI toxicity. Combination of remdesivir and dexamethasone therapy along with standard of care treatment appears to have significantly contributed to the reduced mortality. Larger clinical registries and randomized control studies are required to establish the efficacy of this treatment strategy in transplant recipients.\"}"
      ]
     },
     "execution_count": 14,
     "metadata": {},
     "output_type": "execute_result"
    }
   ],
   "source": [
    "dicts[0]"
   ]
  },
  {
   "cell_type": "code",
   "execution_count": 15,
   "metadata": {},
   "outputs": [
    {
     "name": "stdout",
     "output_type": "stream",
     "text": [
      "Since its outbreak in December 2019 in Wuhan, China, the coronavirus disease (COVID-19) has ravaged the world, causing 217,901,675 infections and 4,523,766 deaths worldwide (https://covid19.who.int, assessed on 31 August 2021). It is caused by the novel severe acute respiratory syndrome coronavirus 2 (SARS-CoV-2) [1,2] and has a broad spectrum of clinical manifestations among patients ranging from asymptomatic, symptomatic with mild or moderate respiratory disease, severe alveolar damage, pneumonia and respiratory failure [3,4,5]. More than 35% of infected individuals display neurological symptoms ranging from headache, loss of smell (anosmia), loss of taste (ageusia), dizziness and cerebrovascular disease [6]. Gastrointestinal, cardiac, kidney and vascular abnormalities are also observed in COVID-19 patients [7]. Overall mortality upon hospitalization is 15–20% but increases to ~40% for patients requiring intensive care [8]. Long-term effects of COVID-19 infection may involve significant sequelae, especially for grievously affected individuals, including microstructural and functional brain anomalies in more than 50% of cases [9].$$$Strikingly COVID-19 susceptibility, severity and recovery have shown high variability worldwide. Older adults ≥ 60 years [10] and those with pre-existing comorbidities (e.g., hypertension, cardiovascular disease and diabetes) [11,12,13] or habits (e.g., smoking) [14] are likely to be more vulnerable to severe SARS-CoV-2 infection. However, poor disease prognosis has also been observed in middle-aged individuals (40–59 years) with no apparent underlying health conditions [15]. Differences in disease prognosis and outcomes in worldwide populations may be attributed to variable degrees of testing and screening, different thresholds for hospitalization, differences in availability of good quality clinical care and compliance to public health measures for containing infection spread. In addition, existing studies suggest that variability in the host genetic constitution may modulate the inter-individual and population-scale differences in COVID-19 severity and clinical outcomes. These include the identification of two genetic susceptibility loci associated with respiratory failure in COVID-19, including the ABO locus in chromosome 9 and a gene cluster at chromosome 3 [16], population-specific variation of the coding variants of Angiotensin-converting enzyme 2 (ACE2), the SARS-CoV-2 receptor for host cell entry [17,18,19] and that of the COVID-19 risk haplotype originating from Neanderthal genomes [20].$$$So far, results from several genome-wide association studies (GWAS) have identified potential genomic loci associated with the severity of COVID-19. The GWAS conducted by the Genetics Of Mortality In Critical Care (GenOMICC) assessed critically ill COVID-19 patients from UK intensive care units (ICUs) and identified 2′-5′-Oligoadenylate Synthetase (OAS) gene cluster on chromosome 12 (OAS1, OAS2 and OAS3), a single nucleotide variant (SNV) each in Tyrosine Kinase 2 (TYK2) and Dipeptidyl Peptidase 9 (DPP9) genes on chromosome 19 and a single nucleotide polymorphism (SNP) in the interferon receptor gene Interferon Alpha and Beta receptor subunit 2 (IFNAR2) on chromosome 21. While DPP9 and TYK2 are thought to be associated with host-driven inflammatory lung injury linked to life-threatening COVID-19, IFNAR2 and OAS genes have been associated with innate antiviral defences [21]. Consistent with the findings of Ellinghaus et al. (2020) [16], Shelton et al. (2021) reported a strong association between ABO locus on chromosome 9 and another gene-rich locus on chromosome 3 that includes Leucine zipper transcription factor-like 1 (LZTFL1) and Solute Carrier Family 6 Member 20 (SLC6A20) with the acuteness of COVID-19 using data from more than a billion participants obtained from 23andMe [22]. An association study based on ~50,000 COVID-19 patients further supported the association of genetic variants in ABO, TYK2, DPP9, IFNAR2, SLC6A20 and Protein Phosphatase 1 Regulatory Subunit 15A (PPP1R15A) with the severity of COVID-19 [23]. Finally, the AncestryDNA COVID-19 host genetic study identified COVID-19 genetic associations with SLC6A20, LZTFL1 variants on the chromosome, ABO locus on chromosome 9 and a novel association on chromosome 11 that includes Polypeptide N-Acetylgalactosaminyltransferase 18 (GALNT18) [24].$$$While the existing GWAS reports have been extremely insightful, their choice of individuals selected as controls might not be optimal. Largely, these studies have recruited healthy individuals who had tested negative for COVID-19 by reverse transcription PCR (RT-PCR) test in the control group or employed population controls [16,21,22,23,24]. Accordingly, the individuals considered in the control set had no known history of COVID-19 at the time of their recruitment, but the possibility of subsequent SARS-CoV-2 infections and their severity in them remained unaccounted. Consequently, we argue that these individuals are likely not suitable controls for predicting the underlying genetic variants associated with severe COVID-19.$$$Here, we utilized the genotyping dataset generated by the AncestryDNA COVID-19 host genetic study corresponding to 11,759 healthy control individuals who tested negative for COVID-19 using swab tests and 3241 COVID-19 positive individuals, encompassing 675,370 SNVs [24]. This dataset comprises ~75% of individuals with European ancestry. We categorized the SARS-CoV-2 infected patient group into five categories denoting the acuteness of manifestation, namely, asymptomatic, mild, moderate, severe and unknown, based on self-reported responses that were collected as described before [24]. We sought to identify and annotate SNVs that show significant frequency variation between asymptomatic versus severely affected COVID-19 patients. We further compared the ancestral affiliations of asymptomatic and mildly symptomatic patients to those presenting with severe disease by combining the genetic data from COVID-19 patients with 10,215 ancient and modern genomes across the globe, assessing 597,573 SNVs from the personal database of Dr. David Reich, Harvard Medical School, USA, Available online (https://reich.hms.harvard.edu/datasets, accessed on 25 March 2020). Our findings reveal discernible genomic variation between asymptomatic/mildly symptomatic and acutely affected COVID-19 patients of European ancestry.$$$COVID-19 patient genomic data was obtained from the AncestryDNA COVID-19 host genetic study [24], through The European Genome-phenome Archive (EGA) (Accession no. EGAD00010002012) with kind permission from the AncestryDNA group (https://www.ancestry.com/dna/, last accessed on 1 August 2021). This dataset was comprised of genotyping data that included 675,370 SNVs corresponding to 11,759 healthy controls who were COVID-19 negative, and 3241 COVID-19 patients with various degrees of disease manifestations. Of the individuals included in this dataset, ~75% belonged to European ancestry [24]. The 3241 COVID-19 patient group was further categorized into asymptomatic, mild, moderate, severe and unknown based on the self-reported phenotype questionnaire (Accession no. EGAD00010002011). The methodology for data collection used to determine SARS-CoV-2 infection severity in patients has been described before [24]. To note, the patient data employed in this study came from the first wave of the pandemic. Symptoms reported by respondents include fever, shortness of breath, dry cough, nasal congestion, fatigue, headache, nausea/vomiting, diarrhoea, altered sense of taste or smell, abdominal pain, cough producing phlegm, sore throat, runny nose, chills and body ache. Based on the participant responses, we used the criteria described in Table 1 and grouped 249 individuals as asymptomatic, 283 as mild, 455 as moderate, 1907 as severe and 347 as unknown. All patients who progressed to being affected with pneumonia were included in the severe category.$$$The COVID-19 genomic dataset from AncestryDNA was subsequently merged with one of the most recent genome datasets (v42.4.1240K_HO) obtained from the publicly available database of Dr. David Reich’s at Harvard Medical School, USA, at https://reich.hms.harvard.edu/datasets (accessed on 25 March 2020). The Reich lab data is comprised of 10,215 ancient and modern genomes from across the globe, assessing 597,573 SNVs. The final merged dataset (COVID+Ancient+Modern) comprised 133,829 SNVs that are common between the two datasets, assessing 25,198 individuals. All file conversions and manipulations were performed using EIGENSTRAT (EIG) v7.2 [25] and PLINK v1.9 [26].$$$Fine population structure within COVID-19 patient genomes present in COVID+Ancient+Modern dataset was delineated using Principal Component Analysis (PCA) implemented in PLINK v1.9 using --pca command. The two most informative PCs are discussed and plotted in R v3.5.1 (Figure 1). To control for population stratification and to avoid genetic structure in the sample, we only selected COVID-19 patients that cluster with individuals of European ancestry. We identified the PC coordinates for the COVID-19 patients based on a European cluster formed by CEU, FIN, GBR, IBS and ITU individuals from the 1000 Genomes Project, present in our dataset. COVID-19 patient genomes lying within the European cluster were selected (PC1 ranging from −0.0042 to 0 and PC2 ranging from −0.0025 to 0.0067) for downstream analysis (Figure 1 inset), and those outside it were removed from downstream analysis.$$$We selected 2528 COVID-19 patients of European descent, based on PCA, among which 197 were asymptomatic, and 217,355 and 1492 patients had mild, moderate and severe symptoms, respectively. The symptomatic status of 267 individuals was unknown (Figure 2). Data pertaining to healthy individuals were excluded from further analysis because while they were not affected with COVID-19 at the time of data collection, this does not preclude the possibility of SARS-CoV-2 infection in them at subsequent time-points. Accordingly, a new dataset was generated (COVID+Ancient+Modern_mod), comprising 10,215 ancient and modern genomes from across the globe, and 2528 COVID-19 patients of European descent (N = 12,743), assessing 133,829 SNVs for ancestry analysis.$$$GWAS was performed using the original AncestryDNA COVID-19 genotyping dataset (EGA Accession no. EGAD00010002012) with 675,370 SNVs to identify genetic variants that show significant frequency variation between asymptomatic versus severely infected COVID-19 patients. Accordingly, the genomes of the asymptomatic individuals (N = 197) (controls) were compared against those with severe disease presentation (N = 1492) (cases).$$$As quality control (QC) measures, SNVs and individuals with high levels of data missingness (>20%) were filtered out using --geno 0.2 and --mind 0.2 flags in PLINK v1.9. Further, to filter out the rare SNVs with low minor allele frequencies (MAF) that may reduce the power for detecting SNV-phenotype association, we employed a MAF threshold of 0.01. While no individual was removed during filtering, 14 and 74,787 SNVs were removed due to missing genotype data and the MAF threshold. The final dataset consisted of 1689 individuals (197 controls + 1492 cases) encompassing 600,569 SNVs.$$$Standard case-control-based association analyses were performed in PLINK v1.9 using --assoc command. Multiple-testing corrected p-values were obtained from --adjust flag alongside --assoc command. Chi-square test, implemented in PLINK --assoc command, was performed separately for all 600,569 SNVs to statistically assess their significance, and multiple-testing corrected p-value < 0.001 was considered significant.$$$Since age has been considered as an important risk factor associated with the severity of COVID-19, a separate age-adjusted GWAS was performed in PLINK v1.9 using --mh flag alongside --adjust and --assoc commands, wherein the asymptomatic and severely affected patients were divided into two groups: above and below 50 years of age, respectively.$$$Manhattan plots were generated in ‘qqman’ package in R v3.5.2 [27] by plotting -Log10\n",
      "p-values of all assessed SNVs in both non-age-adjusted and age-adjusted GWAS outputs. Significant SNVs (multiple-testing corrected p-value <0.001) were annotated using SNPnexus web-based server for GRCh38/hg38 [28].$$$The genomic ancestry of 12,743 individuals, present in the COVID+Ancient+Modern_mod dataset, assessing 133,829 SNVs, was estimated using the model-based clustering algorithm ADMIXTURE v1.3 [29]. The optimum number of ancestral components (K) was determined by minimizing the cross-validation error (CVE) using a --cv flag to the admixture command line. The lowest CVE was estimated for K = 17 (Figure S1).$$$Further, various ancestry fractions of 2261 COVID-19 patients with known symptomatic status (asymptomatic, mild, moderate or severe) of European ancestry were compared using One-way ANOVA, implemented in GraphPad Prism v9 (https://www.graphpad.com, accessed on 1 August 2021).$$$We further developed several multiple linear regression models with different combinations of various European ancestry fractions obtained from ADMIXTURE, alongside demographic and healthcare information pertaining to age, gender, body mass index (BMI) and comorbidities based on the self-reported phenotype questionnaire (Accession no. EGAD00010002011) for 2261 COVID-19 patients of European descent with known symptomatic status, in order to statistically evaluate their impact on the severity of COVID-19 presentation. SARS-CoV-2 infected individuals were graded according to the degree of the clinical manifestation; for example, asymptomatic patients were graded as 1, and symptomatic patients with mild, moderate and severe disease were graded as 2, 3 and 4, respectively. Additionally, a multiple logistic regression model was developed based on the demographic and healthcare information pertaining to age (≥50 vs. <50 years), gender (Male vs. Female), body mass index (BMI) (<25 vs. ≥25) and comorbidities (Present vs. Absent), as mentioned in the self-reported phenotype questionnaire to assess which demographic and physiological factor(s) potentially augment the severity of COVID-19. Multiple regression analyses were performed in GraphPad Prism v9. Two-tailed tests were performed considering the null hypothesis of no association of ancestral, demographic and medical factors with the degree of severity of COVID-19 manifestation and p-value < 0.05 was considered statistically significant.$$$The COVID+Ancient+Modern dataset (N = 25,198) was used here. The ancestry proportions of 2,261 COVID-19 patients of European descent with various degrees of disease presentation were assessed in this analysis. A total of 267 individuals with unknown symptoms were excluded. We employed qpAdm [30] implemented in AdmixTools v5.1 [31] to estimate ancestry proportions in the European genomes originating from a mixture of ‘reference’ populations by utilizing shared genetic drift with a set of ‘outgroup’ populations. To note, in qpAdm, the target and source populations are referred to as “left” populations and the reference populations are called “right” populations. Some 14 ancient genomes, namely Luxembourg_Loschbour.DG, Luxembourg_Loschbour_published.DG, Luxembourg_Loschbour, Iberia_HG (N = 5), Iberia_HG_lc, Iberia_HG_published, LaBrana1_published.SG, Hungary_EN_HG_Koros (N = 2), Hungary_EN_HG_Koros_published. SG, were grouped together as West European Hunter-Gatherers (WHGs); three ancient genomes, namely Russia_EHG, Russia_HG_Samara and Russia_HG_Karelia (N = 2), were grouped together as Mesolithic Hunter-Gatherers of Eastern Europe (EHGs); 11 ancient genomes, namely Kazakhstan_MLBA_Alakul_Maitan_o (N = 2), Kazakhstan_MLBA_OyDzhaylau_o, Russia_MLBA_Sintashta_o1 (N = 2), Russia_MLBA_Sintashta_o2 (N = 5), Russia_MLBA_Sintashta_o3, were grouped together as Ancient North Eurasians (ANEs), two ancient genomes: KK1.SG, SATP.SG, were grouped as Caucasus Hunter-Gatherers (CHGs), and Sweden_HG_Motala (N = 8) were renamed as Scandinavian Hunter-Gatherers (SHGs) in qpAdm analysis. We tried to model modern-day Europeans with different combinations of Neolithic Near-East populations such as Neolithic Iranians (Iran_GanjDareh_N), Neolithic Anatolians (Anatolia_N) and Natufians (Israel_Natufian) alongside various combinations of ancient European Hunter-Gatherer populations (WHG, EHG, CHG, ANE and SHG) as source populations as described before [32]. We inferred that COVID-19 patients of European ancestry (target population) could be best modelled as a combination of three source populations, namely ANEs, WHGs and Neolithic Iranians (Iran_GanjDareh_N) as Left (WHG, ANE, Iran_GanjDareh_N). We used a mixture of eight ancient and modern-day populations: Ust Ishim, MA1, Kostenki14, Han, Papuan, Chukchi, Karitiana, Mbuti as the ‘Right’ outgroup populations (O8).$$$We compared the genomes of asymptomatic COVID-19 patients (N = 197) (controls) with that those characterized by severe disease (N = 1492) (cases). Out of 600,569 SNVs employed in GWAS, 621 and 615 SNVs (~0.1%) revealed significant variation (multiple-testing corrected p-value < 0.001) between the asymptomatic and severe categories of SARS-CoV-2 infected individuals in non-age-adjusted (Figure 3) and age-adjusted (Figure S2) association analyses, respectively. Among the significant SNVs, 612 were common between the age-adjusted and non-adjusted cohorts. Nine SNVs were uniquely present in the non-age-adjusted cohort, while three were uniquely present in the age-adjusted cohort. We annotated the 621 SNVs, identified in the non-age-adjusted cohort using SNPnexus web-based server [28].$$$Among the 621 appreciably distinct SNVs, 18 were found to be significantly associated (p-value < 0.05) with host immune system-related pathways, discerned using ‘pathway’ analysis implemented in SNPnexus. Our results indicate that genetic variants involved in pathways governing host immunity, such as innate and adaptive immune system, interferon (IFN) signalling, interleukin (IL) signalling, antigen processing by major histocompatibility complex (MHC) and cytokine signalling, showed significant variation between asymptomatic and severe COVID-19 patients (Table S1). Pathway analysis identified two SNVs, rs1042994 and rs4364309, that are significantly (p-values < 0.01) associated with modulating infectious diseases, hinting at likely differential cellular responses between asymptomatic and severe COVID-19 hosts to the viral onslaught. It further identified rs9427097 in ADAR gene, associated with mRNA editing: A to I conversion and interferon signalling. ADAR has been speculated to be associated with SARS-COV-2 infection [33].$$$Further, out of the 621 SNVs, 30 were found to be significant (p-value < 0.01) in ‘gwas’ implemented in SNPnexus. Among these five (rs12423247, rs7318817, rs2923084, rs17808461 and rs10077875) were associated with high body-fat related traits, such as phospholipid levels in blood plasma, high levels of high-density lipoprotein (HDL), obesity-related traits and higher BMI (Table S2). Further, significant SNVs include rs1006609, associated with cardiovascular disorders, rs4337252, associated with lung function or forced vital capacity (FVC), rs9649546, associated with mean corpuscular volume (MCV) that is, the average volume of red blood cells and white blood cell count, rs3809566, associated with platelet count, and rs10045413, associated with smoking.$$$We did not identify any specific genomic loci showing significant variation between the asymptomatic and severe COVID-19 patient categories (Figure 3). However, the maximum number of significantly variable SNVs (N = 375, multiple-testing corrected p-value < 0.01) were present on chromosome 10. Pathway analysis performed with these SNVs revealed them to be associated with traits such as lipid metabolism (e.g., sphingolipid metabolism) and plasma lipoprotein assembly, underscoring a putative association between obesity and the severity of COVID-19 (Figure 4) that has been suggested previously [22].$$$Finally, out of the three SNVs uniquely present in the age-adjusted cohort, rs8014123 is associated with thyroid carcinoma (THCA), while rs10268928 in PTTG1IP2 Family member 2 (PTTG1IP2) is associated with hepatitis B virus infection (Table S2).$$$The genomic ancestry of 12,743 individuals was estimated using the model-based clustering algorithm ADMIXTURE v1.3 [29]. The optimum number of ancestral components (K) was determined by minimizing the cross-validation error (CVE). The lowest CVE was estimated for K = 17.$$$At K = 17, Ancient Hominins (K = 1), Papuans (K = 2), indigenous Native American tribes (Native Americans, K = 3), East and Southeast Asians (K = 4), Sub-Saharan Africans (K5) and Ngnasans (K = 9) were assigned to distinct clusters (Figure 5). Distinct clusters of Northern Africans/Near Easterners (dominated by K6), Neolithic Iranians (K7) and South Asians (K8) were also assigned. ADMIXTURE revealed at least six clusters comprised of ancient and modern-day Europeans, namely ANE and EHG (K10), Northwest Europeans (K11), WHG (K12), Eskimos (K13), Neolithic Anatolians (K14), and Bronze and Iron Age Europeans (example, Bell Beaker and Corded ware) (Figure 5). The 2261 COVID-19 patients of European descent with various degrees of disease presentations (asymptomatic, mild, moderate and severe) depicted discernible genetic admixture among K3, K10, K11, K12 and K14 ancestry fractions (Figure 5).$$$ANOVA revealed two distinct groups among the COVID-19 patients: while asymptomatic and mildly symptomatic individuals formed one cluster, the moderately and severely symptomatic individuals grouped separately. Although only marginally significant (One-way ANOVA, p-value = 0.06), moderately and severely symptomatic COVID-19 patients revealed larger WHG (K12) ancestry fractions compared to the asymptomatic and mildly symptomatic individuals, and the difference between mildly and moderately symptomatic individuals was statistically significant (Tukey’s multiple comparison, adjusted p-value = 0.04) (Figure 6A). Further, moderately and severely affected patients depicted significantly larger (One-way ANOVA, p-value = 0.04) Neolithic Anatolian ancestry fractions (K14) compared to the asymptomatic and mildly symptomatic patients (Figure 6B). However, the pair-wise difference among the four groups was not significant, likely because of the high variation in the dataset (Coefficient of variation >25%). In contrast, asymptomatic and mildly symptomatic individuals revealed significantly larger fractions of Bronze and Iron Age European ancestry, i.e., Bell Beaker ancestry fractions (One-way ANOVA, p-value = 0.01) and Northwest European ancestry (K11) (One-way ANOVA, p-value = 0.03) compared to the moderately and severely affected subjects (Figure 6C,D). The Bell Beaker ancestry fraction was significantly different between the mildly and severely symptomatic patients (Tukey’s multiple comparison, adjusted p-value = 0.05).$$$Multiple logistic regression analysis revealed highly significant association between the male gender and the severity of COVID-19 (Odd’s Ratio = 1.78 (95% CI: 1.39–2.28), |Z| = 4.6, p-value < 0.0001) and significant association between comorbidities and COVID-19 severity (Odd’s Ratio = 1.36 (95% CI: 1.05–1.75), |Z| = 2.33, p-value = 0.02). However, we found only marginally significant association between age and the acuteness of COVID-19 pathology (Odd’s Ratio [Age < 50] = 0.79 (95% CI: 0.62–1.02), |Z| = 1.79, p-value = 0.07). While this might be attributed to the smaller sample size of asymptomatic versus severely symptomatic patients, it could still be biologically meaningful. We did not find any association between BMI and the severity of COVID-19 (Odd’s Ratio [BMI < 25] = 0.91 (95% CI: 0.69–1.2), |Z| = 0.66, p-value = 0.51). We attribute the lack of association between BMI and the severity of COVID-19 to the age and gender variation in the dataset, both of which have previously been linked to BMI [34].$$$Congruent with the ADMIXTURE results, our multiple linear regression models revealed highly significant positive association between the severity of COVID-19 disease presentation with Neolithic Anatolian ancestry fraction (t = 2.921, p-value = 0.004) and highly significant negative association between the severity of COVID-19 presentation with Bronze and Iron Age European ancestry, i.e., Bell Beaker (t = −2.839, p-value = 0.005) and Northwest European ancestry fractions (t = −2.711, p-value = 0.006). However, the association between WHG (t = 1.564, p-value = 0.11) ancestry fraction and the severity of COVID-19 was found to be marginal. Overall, our results indicate that males with higher fractions of Neolithic Anatolian and WHG ancestry and underlying comorbidities have a significantly greater propensity towards developing severe COVID-19. In contrast, females and individuals without comorbidities who possess higher fractions of Bell Beaker and Northwest European ancestries have a discernibly lower predisposition towards developing severe COVID-19.$$$We modelled all Europeans present in the dataset as a combination of three source populations, namely WHGs, ANEs and Neolithic Iranians, in qpAdm analysis (see Methods). Among the 2261 COVID-19 patients of European descent, individuals with severe symptoms contained the highest WHG ancestry proportions (24%) and the lowest ANE ancestry fractions (27.1%) (Table 2). On the contrary, asymptomatic individuals were found to have low WHG ancestry proportions (22.9%) and the highest ANE ancestry fractions (28.9%) (Table 2). Interestingly, we found a clinal variation in the ancestry proportions of the symptomatic individuals, such that patients with mild and moderate symptoms depicted WHG (22.5% and 23.5%, respectively) and ANE (28.7% and 27.9%, respectively) ancestry fractions intermediate between the asymptomatic individuals and acutely ill COVID-19 patients (Table 2).$$$To assess the robustness of these results, we further modelled these Europeans as a combination of three source populations, namely WHGs, EHGs and Neolithic Iranians, as performed previously [32]. We found similar clinal variation in the ancestry proportions of the symptomatic individuals, such that the patients with mild and moderate symptoms depicted WHG (19.6% and 20.9% respectively) and EHG (22.2% and 21.5% respectively) ancestry fractions intermediate between that of the asymptomatic (WHG: 20.4% and EHG: 22.2%) and severe COVID-19 patients (WHG: 21.5% and EHG: 21.0%) (Table 3).$$$Genetic variability contributes to the observed disparities in many diseases, including those with complex environmental and socio-economic determinants. For example, prostate cancer is the second most prevalent cancer diagnosis and the fifth most common cause of death in men worldwide; however, it disproportionately affects men of African ancestry [35]. Similarly, cardiovascular disease is a leading health problem worldwide, but its risk is governed by individual and population-scale variation in rare/Mendelian as well as common genomic regions [36,37]. SARS-CoV-2 infection causes extensive disparities in clinical manifestation among affected patients. We employed GWAS using the AncestryDNA COVID-19 genotyping dataset corresponding to individuals of European ancestry to identify novel genetic variants that were significantly distinct between asymptomatic and severely affected COVID-19 patients. We identified 621 and 615 SNVs that revealed significant variation (multiple-testing corrected p-value < 0.001) between the asymptomatic and severely symptomatic patients in non-age-adjusted (Figure 3) and age-adjusted (Figure S2) cohorts, respectively. Among the significant SNVs, 612 were common between the two categories. We could map the 621 SNVs to 265 genes among which, the highest number of genes (N = 11) were associated with heteromeric G-protein signalling pathway, which has been linked to COVID-19 in several studies. Hameid et al. (2021) recently argued that SARS-CoV-2 could alter signalling cascades either by activating the G protein-coupled receptors (GPCRs) or by directly modulating G protein signalling [38]. Vascular inflammation, associated with COVID-19, has also been linked to GPCRs [39]. Further, G protein subunit alpha 15 (GNA15), one of the 11 genes discerned here, is associated with G-protein signalling and has enhanced expression in immune cells according to The Human Protein Atlas (http://www.proteinatlas.org, last accessed on 1 August 2021) [40] and therefore might play a role in the progression of COVID-19. The second greatest number of genes (N = 6) were found to be associated with the Wnt signalling pathway, which has also been linked to the pathological progression of COVID-19 [41].$$$Consistent with the importance of the host immune system in combating coronavirus infections [42], we discerned significant differences in genetic variants involved in IFN, IL and cytokine signalling pathways between asymptomatic and severe COVID-19 patients (Table S1). All of the above-mentioned immune response pathways have been previously linked to COVID-19 [43]. Notably, the hyperproduction of proinflammatory cytokines, such as IL-1 preferentially targeting lung tissue, has been linked to necessitating ICU admission in COVID-19 patients [44]. We also identified several variants associated with obesity and blood cholesterol traits (e.g., HDL). It is noteworthy that the HDL scavenger receptor B type 1 (SR-B1) has been shown to facilitate SARS-CoV-2 cellular attachment, entry and infection and HDL promotes viral infection [45], likely exacerbating COVID-19 pathologies. Finally, obesity has emerged as one of the most important risk factors of COVID-19 [22,46] and is thought to account for doubling the risk of hospitalization [22]. We would like to emphasize here that while our findings indicate that there is a conserved set of SNVs which are independently predictive of both severe COVID-19 symptoms and risk factors, such as obesity, higher cholesterol level and habits such as smoking, these SNVs themselves might not be causative of severe COVID-19 symptoms.$$$We note that we did not find any association of genetic variants in ABO, TYK2, DPP9, IFNAR2, PPP1R15A, LZTFL1, and SLC6A20 loci with the severity of COVID-19 that were reported previously [16,21,22,23,24]. This is likely attributable to the choice of individuals employed as controls in the present versus earlier GWAS. All previous association studies recruited healthy individuals who had tested negative for COVID-19 by RT-PCR in the control group or employed population controls. While such individuals did not have COVID-19 at the time of their recruitment, the possibility of subsequent SARS-CoV-2 infection and its severity in them remains unknown. As a result, these groups of healthy controls may still contain underlying genetic signatures that could make them susceptible to severe COVID-19 if infected by SARS-CoV-2 at future time points. Hence, we argue that these individuals are likely not suitable controls for predicting genetic variants associated with severe COVID-19. In contrast, in the present study, we have considered the asymptomatic COVID-19 patients as controls. The absence of perceptible known disease symptoms among the asymptomatic COVID-19 subjects makes them more valuable as controls as it is suggestive of their genetic make-up, potentially playing a crucial protective role in them from severe disease outcomes.$$$Our findings demonstrated stark variances in host genetic factors between asymptomatic and seriously affected SARS-CoV-2 infected patients of European ancestry, outlining differences in key pathways governing host immunity and COVID-19 comorbidity attributes.$$$Our ADMIXTURE analysis revealed two distinct clusters among the COVID-19 patients: one composed of the asymptomatic and mildly symptomatic individuals and the other comprising the moderately and severely symptomatic patients. We found that the asymptomatic and mildly affected individuals have significantly larger fractions of Bronze and Iron Age European and Northwest European ancestries (Figure 6C,D) and lower proportions of WHG and Neolithic Anatolian related ancestry fractions (Figure 6A,B). These results were supported by the linear regression analysis, where various European ancestry fractions were modelled alongside demographic attributes, for example, age, gender and physiological factors, such as BMI and other COVID-19 comorbidities. We discerned that the Northwest European ancestry fractions were composed of ancient Viking genomes from Sweden alongside modern-day Icelandic and British genomes. The Bronze and Iron Age European ancestry fractions largely included the ancient European Bell Beaker and Corded Ware genomes. The Bell Beaker culture spread across Western and Central Europe from 2750–2500 BC to 2200–1800 BC. This expansion of the Beaker complex to Western Europe introduced high levels of Steppe-related ancestry to the British Isles and Western Europe [47]. The Bell Beaker culture was an off-shoot of the Corded Ware complex that spread across Germany and surrounding countries ~5000 years ago and shared material culture with Steppe groups such as Yamnaya herders [30]. Notably, both Bell Beaker and Corded Ware genomes had a smaller proportion of indigenous WHG ancestry fractions [47]. Consistent with these findings, our qpAdm analysis revealed discernibly lower fractions of WHG related ancestry among asymptomatic and mildly symptomatic individuals compared to COVID-19 patients with severe disease (Table 2A). The asymptomatic individuals also revealed higher fractions of ANE related ancestry, which was introduced to Central and Western Europe through the Yamnaya culture (Table 2A) [30]. Repeating the qpAdm analysis by replacing ANEs with EHGs, who derive ~75% of their ancestry from the former [30], led to uncovering discernibly higher proportions of EHG related ancestry among the asymptomatic individuals and its lowest fractions among the seriously ill COVID-19 patients (Table 2B). Overall, our studies suggest that asymptomatic and mildly symptomatic individuals derived significantly larger proportions of their ancestry from ANEs/EHGs, which was introduced to Europe through Bell Beaker culture (Yamnaya related), the severely symptomatic COVID-19 patients possess significantly larger fractions of WHG related ancestry. It is noteworthy that the variation in ancestry or admixture fractions (~2%) between severely symptomatic and asymptomatic COVID-19 patients observed here is higher than that among several genetically heterogenous and endogamous populations across highly genetically diverse countries, such as India [48] and hence cannot be considered as minuscule.$$$The findings in the current study may have been influenced by the limited availability of genetic data for COVID-19 patients. Among the SARS-CoV-2 infected cohort, we sub-categorized patients as asymptomatic, mild, moderate or severe and the rest as unknown based on a self-reported questionnaire. Since the aforesaid categories were delineated solely based on the questionnaire, we cannot exclude the likelihood of miscategorization, which might have influenced our results. Further, the unavailability of the genomic data for COVID19 patients in the ICU or those who may have succumbed might cause some discrepancies in the final outcomes of our study. Finally, we note that, as in the case of previous association studies, our GWAS findings may not be exclusively ascribed to SARS-CoV-2 infections alone. However, we surmise that utilizing asymptomatic COVID-19 patients as controls improves the probability of the genetic variants identified herein to being associated with the degree of COVID-19 manifestation specifically, as these are significantly different between the severely symptomatic and asymptomatic COVID-19 subjects.$$$Overall, our findings elucidate the striking genetic differences between asymptomatic and severely affected patients infected with SARS-CoV-2 infection. Expanding this approach to include whole-genome sequencing data and increasing the power of analysis by employing a large number of individuals in various categories of SARS-CoV-2 infection severity accentuates the potency for uncovering novel genetic variants that may be associated with severe COVID-19 in future, thereby likely identifying cellular pathways that may be targeted to develop or improve therapeutics. Further, using a population genetics driven approach such as ours in diverse ancestries will provide the opportunity to interrogate population and ancestry specific genetic factors that may govern susceptibility to severe COVID-19 and may uncover clinically actionable and more efficacious population-specific drug targets.$$$The current study shines a light on the striking differences in the genetic architecture between asymptomatic and severely affected COVID-19 patients of European descent. While asymptomatic individuals contain significantly larger ANE/EHG ancestral fractions, patients with severe clinical manifestations possess dominant WHG fractions. Host pathways governing immunity such as innate and adaptive immune system, IFN, IL, cytokine pathways, antigen processing and SNVs related to comorbidity attributes, such as obesity-related traits, cardiovascular disorders, lung function and smoking, were discerned to vary significantly between severe and asymptomatic COVID-19 patients.\n"
     ]
    }
   ],
   "source": [
    "print(dicts[1]['body_text'])"
   ]
  },
  {
   "cell_type": "code",
   "execution_count": 16,
   "metadata": {},
   "outputs": [
    {
     "data": {
      "text/plain": [
       "\"\\n{\\n    'content':'<DOCUMENT BODY>'\\n    'meta': {'key':'val'......}\\n}\\n\""
      ]
     },
     "execution_count": 16,
     "metadata": {},
     "output_type": "execute_result"
    }
   ],
   "source": [
    "\"\"\"\n",
    "{\n",
    "    'content':'<DOCUMENT BODY>'\n",
    "    'meta': {'key':'val'......}\n",
    "}\n",
    "\"\"\""
   ]
  },
  {
   "cell_type": "code",
   "execution_count": 17,
   "metadata": {},
   "outputs": [],
   "source": [
    "final_dicts = []\n",
    "for each in dicts:\n",
    "    tmp = {}\n",
    "    tmp['text'] = each.pop('body_text')\n",
    "    each.pop('abstract')\n",
    "    # each.pop('authors')\n",
    "    tmp['meta'] = each\n",
    "    final_dicts.append(tmp)"
   ]
  },
  {
   "cell_type": "code",
   "execution_count": 18,
   "metadata": {},
   "outputs": [
    {
     "data": {
      "text/plain": [
       "{'text': \"Severe acute respiratory syndrome corona virus 2 (SARS-CoV-2) causing COVID-19 has resulted in a global pandemic since March 2020 [1]. In India, after the first case was reported in Kerala state, COVID-19 has rapidly spread across the country, and the first wave lasted till November 2020. After a lull, there was again a rapid surge in the number of cases from February 2021, reaching an unprecedented number of more than 400,000 cases and 4000 deaths per day. There was a significant increase in mortality as the second wave spiralled out of control. An avalanche of COVID-19 cases choked the health care system and crippled infrastructural facilities such as oxygen supply and availability of beds in hospitals. The second wave in India is due to the corona virus variant B-1.617 [2]. The overall fatality rate in southern states of India was 2.06% during the first wave [3]. Mortality was higher in patients with comorbidities. The most prevalent comorbid conditions among decedents were diabetes (45%) and hypertension (36.2%) [3]. In fatal cases between the ages of 18 and 29 years, renal disease was more prevalent [3].$$$Kidney transplant recipients (KTRs) constitute a special group and are considered to be more susceptible to SARS-CoV-2 infection and are at an increased risk of complications and mortality. This is due to chronic immunosuppressive therapy and associated comorbidities such as hypertension, diabetes, chronic kidney disease (CKD), and coronary artery disease [3, 4]. There is paucity of data regarding incidence, clinical picture, and outcome of COVID-19 among KTRs. Initial results from USA, Italy, and Spain reported a mortality of 20–28% in hospitalized KTRs [5–8]. There is no such published data in India regarding KTRs during the second wave and in those who received vaccination.$$$Effective treatment for COVID-19 is currently unknown [5], and there are no standardized guidelines for the treatment of infection and modification of immunosuppression regimens in these individuals. In this study, we reported the clinical features, management strategies, and outcomes of KTRs affected by COVID-19 during the ongoing pandemic. To the best of our knowledge, this is the first study from India where uniform diagnostic and treatment regimens were adopted for the management of KTRs with COVID-19 during the second wave. Primary outcomes of our study were efficacy and treatment safety, recovery, and mortality rates. Secondary outcomes of the study were necessity and mode of oxygen therapy and duration of hospital stay.$$$Kidney transplant recipients who had COVID-19 during the months of March, April, and May 2021 were included in this cohort study. These patients underwent transplantation at our centre within the last 22 years. Diagnosis of COVID-19 was confirmed by real-time reverse transcriptase polymerase chain reaction (RT-PCR) from nasopharyngeal swab. Detailed history and comorbidities were recorded. Clinical symptoms, temperature, and SpO2 were noted in all the patients. Renal function tests, complete blood counts, liver function tests, LDH, ferritin, C-reactive protein, D-dimers, procalcitonin, and IL-6 were performed once in four days. Tacrolimus trough levels were checked periodically. HRCT of the chest was done at admission and subsequently depending on the clinical need. High-resolution computed tomography (HRCT) severity score was reported by the radiologist in the hospital. We adopted COVID-19 Reporting and Data System (CO-RADS) for assessing pulmonary involvement on unenhanced chest CT images and 25-point CT severity score or total severity score (TSS) method. Basing on the severity score, we divided our patients into three groups. Mild severity was TSS less than 8/25, moderate severity was (9–18)/25, and (19–25)/25 was severe [9–11].$$$Patients with mild clinical symptoms of low-grade fever, cough, minor changes in haematological parameters and inflammatory markers, and normal SpO2 were monitored at home and were treated with paracetamol, doxycycline, and vitamins. All 20 patients were continued on their earlier immunosuppressive medication with the following modification. We continued earlier maintenance dose of prednisolone, and tacrolimus dosage was adjusted by monitoring trough levels and maintaining at 4–6 ng/ml. Antimetabolites (mycophenolate mofetil sodium or azathioprine) were reduced by half or completely withdrawn in some patients.$$$Patients who clinically deteriorated during home treatment experienced breathlessness and had SpO2 less than 92% or showed a TSS higher than 8/25 on HRCT were hospitalized and treated by the following regimen. They were closely monitored for body temperature and SpO2 every 6 hours. All patients received supplemental doses of vitamins. Antibiotic use was limited to the patients with secondary infection. They were given remdesivir 200 mg on the first day followed by 100 mg for the next four to seven days and dexamethasone 6 mg intravenously for ten days. No dose adjustment was made for remdesivir, as all the patients had eGFR above 30 ml/min/1·73 m2. We did not use methyl prednisolone, lopinavir/ritonavir, hydroxychloroquine (HCQ), or azithromycin in any of our patients.$$$Prophylactic anticoagulation with enoxaparin 40 mg/day was administered subcutaneously for all those with elevated D-dimer levels. Following enoxaparin for 7–10 days, they were switched to oral anticoagulants. Basing on the oxygen requirement, they were given oxygen with non-rebreather mask (NRBM), high-flow nasal catheter (HFNC), or noninvasive ventilation (NIV). Oxygen saturation was maintained above 92% in all patients.$$$In this retrospective cohort study, we studied the clinical course and outcome of 20 kidney transplant recipients who had SARS-CoV-2 infection from March to May 2021. Infection in these patients was related to community exposure. The exact source and the time of exposure were unknown. The patients were conversant with COVID-19 appropriate behaviour. All had access to the nephrologist as they were under regular follow-up after transplantation.$$$All KTRs in the study underwent kidney transplantation at our centre within the last 22 years. Median time interval from transplantation to infection was 3 years. Period after transplant surgery was less than 3 months in 1, 1–10 years in 14, 10–20 years in 3, and more than 20 years in 2 patients. The time between onset of symptoms and presentation to the hospital was 2-3 days. Median age of patients in our cohort was 44 years. 10 (50%) patients were above 45 years, and 10 (50%) were below 45 years. The youngest was 9 years old, and the oldest patient was 63 years old. Male patients were 17 (85%), and females were 3 (15%). Four patients received both the doses of COVID-19 vaccination, and three received single dose (Table 1).$$$Comorbidities were present in all 20 (100%) patients. These included hypertension in 20 (100%), diabetes mellitus in 6 (30%), coronary artery disease in 2 (10%), CKD in 6 (30%), hepatitis C in 1 (5%), and BK virus nephropathy in 2 (10%). 8 (40%) patients had multiple comorbidities. In terms of kidney function, serum creatinine levels at the time of admission was at a median of 1·35 mg/dl.$$$1 patient had de novo DSA positive antibody-mediated rejection 3 months ago. She received 2 doses of intravenous immune globulin (IVIg), each 75 grams and 1 dose of rituximab. 2 patients had BK virus nephropathy. Their immunosuppression was minimized, and both had mild renal insufficiency with serum creatinine of 1.6 mg/dl.$$$Clinical symptoms were fever and cough in all the 20 (100%) patients, myalgias in 10 (50%), rhinorrhoea in 12 (60%), dyspnoea in 12 (60%), and diarrhoea in 6 (30%). 10 (50%) patients had loss of taste and smell (Table 2). There was lymphopenia in 11 (55%) patients with a median at 962·5 cells/cu.mm, elevated CRP in 15 (75%) with a median at 30·1 mg/ml, elevated D-dimer in 6 (30%) with a median at 1090 ng/ml, elevated IL-6 in 10 (50%) with a median at 16·5 ng/ml, elevated ferritin in 9 (45%) with a median at 357·8 ng/ml, and elevated LDH in 14 (70%) at 294·5 U/L. Procalcitonin greater than 0·9 ng/ml was noted in 1 (5%) patient (Table 3).$$$HRCT was done in all patients. 12 patients with HRCT severity scores of >8/25 were admitted in the hospital. Of these, 8 had a TSS of (8–18)/25, 4 had a TSS of more than 18/25, and all had SpO2 <90 requiring oxygen supplementation (Table 4).$$$All patients were continued on their regular antihypertensive and antidiabetic drugs. Tacrolimus was given in the same doses as before. 12 patients were started on dexamethasone 6 mg intravenously once daily. Remdesivir was given at a dose of 200 mg intravenously on the first day followed by 100 mg intravenously daily. 10 (84%) out of 12 patients received 5 doses of remdesivir. 2 patients received 8 doses of remdesivir. Single dose of tocilizumab 400 mg was given intravenously to 3 patients with high levels of IL-6 and hypoxia. Of the 3 patients, 1 recovered, 1 died, and 1 is on mechanical ventilation undergoing therapy in the intensive care unit. 12 patients with elevated D-dimer received enoxaparin 40 mg/day.$$$12 patients developed hypoxia with SpO2 <90 and were given oxygen supplementation. Out of which, 8 patients required oxygen with mask and 4 had escalated oxygen requirement who were treated with NRBM or HFNC. 2 of these patients worsened and were later intubated and mechanically ventilated.$$$10 patients had stable renal function throughout their hospital stay. 1 patient developed prerenal uraemia, serum creatinine increased to 3.6 mg/dl, and following correction of volume depletion, serum creatinine came down to 1·5 mg/dl. 1 patient who was treated for recent antibody-mediated rejection developed renal failure while on mechanical ventilation and required renal replacement therapy (RRT).$$$Mortality in the total cohort was 5% (1 out of 20). One hospitalized patient expired on the 6th day while on mechanical ventilation. He had coronary artery bypass graft (CABG) 5 years ago and had severe left ventricular (LV) dysfunction. 8 patients were discharged by 8 days, 2 patients were discharged by 14 days, and 1 is currently in the hospital. All had stable serum creatinine compared to their base line (Table 2).$$$We studied clinical features, management strategies, and outcomes of 20 kidney transplant recipients with SARS-CoV-2 infection, during the second wave of COVID-19 pandemic in India. Currently, there is limited knowledge regarding the treatment of COVID-19 in KTRs, and an effective treatment for this group is unknown [5, 12]. The continuation, proper dosage, and target levels of immunosuppressive drugs are still a matter of debate. Earlier analyses have shown unfavourable outcomes and high mortality in KTRs following SARS-CoV-2 infection [5, 8, 13, 14]. Caillard et al. reported that severe infection-related mortality was significantly higher in KTRs than in nontransplant patients (17·9% vs. 11·4%, p=0.038) [15].$$$We describe the clinical course of 20 KTRs with COVID-19. All of them underwent transplantation at our centre and were on regular follow-up. There was male preponderance (85%). The overall patient profile with regard to age and comorbidities appears to be similar to other studies [13, 16]. Living-related donor recipients were 17, and deceased donor recipients were 3. A majority of the kidney transplantations in our centre are live-related donor transplants.$$$All patients in the cohort presented with fever and cough, and COVID-19 symptoms were similar to those in the general population where 58–100% had fever, 42–100% had cough, 5–90% had dyspnea, and 5–90% had fatigue and myalgia [13, 14, 17]. Similar presentation was described in reports of Columbia University Transplant Program in New York [6] and single-centre Italian study of COVID-19 in KTRs [18]. Though the initial presentation was benign, 3 out of 11 patients in our study deteriorated fast, requiring hospitalisation and oxygen therapy. Other studies also reported a more rapid clinical progression than in general population [4].$$$Lymphopenia with reduction in absolute lymphocyte count was noticed in 11 (55%) patients. Lymphopenia was reported to be 83.2% in the infected patients by Guan et al. [19]. In general population with COVID-19, lymphopenia was observed in 63% of the patients. Other studies reported an association between lymphopenia, severity of the disease, acute respiratory distress syndrome (ARDS), and fatal outcome [20]. The cause of lymphopenia is not clear although lymphocytes have been shown to be the primary targets of SARS-CoV-2. In our study, 15 patients had elevated CRP levels. Wu et al. and Deng et al., in their studies on risk factors, have shown a strong association between elevated CRP and unfavourable outcomes including ARDS and death in COVID-19 patients [21, 22]. Though the relation between high levels of ferritin and severity of illness and death is not well established, some studies have shown that higher ferritin levels are associated with ARDS. In our cohort, serum ferritin levels were elevated in five patients. And in one, it was very high, and she developed respiratory distress, thus requiring mechanical ventilation. IL-6 was found to be consistently elevated in COVID-19 patients with respiratory failure [23]. Tocilizumab was shown to be associated with significantly improved survival of COVID-19 patients and rescued them from rapid death [23]. In our cohort, three patients with hypoxia and elevated IL-6 were given tocilizumab. Of these patients, one expired, and one is on mechanical ventilation. D-dimer was elevated in 6 (30%) of our patients, and all of them were given anticoagulant prophylaxis with enoxaparin. None of them had thrombotic complications during or after recovery. Yang et al. showed that D-dimer was elevated in those with severe symptoms and possible disseminated intravascular coagulation (DIC) [18, 19, 24].$$$All admitted patients had CT severity scores above 8/25. Some patients in the cohort had worsening of severity score on HRCT, and their oxygen requirement increased. Earlier reports of radiological data of COVID-19 focussed on CT findings of the chest [25–27]. Chest X-ray is employed as a first-line triage tool by the British and Italian hospitals [28, 29]. British Society of Thoracic Imaging has not recommended use of CT except in seriously ill patients [30]. We found that HRCT was useful for assessing the severity of lung involvement initially and for monitoring the progress of pneumonia and its response to treatment, similar to reported radiological data of COVID-19 [25–27]. Low-dose HRCT done after treatment showed significant reduction in severity score. 12 patients in our cohort were hypoxic and had moderate to severe pneumonia as per the CT severity score at a median of 6.5 days after the onset of initial symptoms.$$$Azithromycin, antiretroviral drugs (oseltamivir, ritonavir, darunavir, and lopinavir), and hydroxychloroquine (HCQ) were used extensively in KTRs with COVID-19 during the first wave of pandemic [8, 31]. In fact, lopinavir/ritonavir was used as the first-line drug in several countries [32]. In contrast, LPV/r monotherapy was reported to be ineffective in hospitalized COVID-19 patients by the ‘recovery trial' [33]. Protease inhibitors will enhance serum tacrolimus levels which in turn may prolong QT interval in a dose-dependent manner leading to fatal arrhythmias. Combination of azithromycin and hydroxychloroquine may also prolong corrected QT-interval [8, 34]. Hence, the drug combinations must be handled carefully to prevent drug interactions. Several centres stopped using these drugs in the treatment against COVID-19. Acute kidney injury (AKI) has been reported in COVID-19 patients due to virus-induced direct toxicity on proximal tubule epithelial cells, dehydration, volume depletion, cytokine release syndrome, and hemodynamic changes [34]. AKI has been reported in up to 15% of COVID-19 patients in general population [35]. In KTRs with COVID-19, 21–60% of the patients were noticed to have AKI, while 10% of them required RRT [36]. Kute et al. also reported high rates of AKI (48·4%) in their patients [13]. It is interesting to note that AKI was common in those patients who received lopinavir/ritonavir (25%). In their study, Alberici et al. reported that 6 out of 20 patients developed AKI and 1 required hemodialysis [8]. We believe that the incidence of AKI in our cohort was low (5%) as we have not used antiretroviral drugs, azithromycin, or HCQ in our patients.$$$Immunosuppression management in KTRs with COVID-19 is found to be challenging. All our KTRs were on triple immunosuppression with prednisolone, tacrolimus, and mycophenolate mofetil or azathioprine before the onset of infection. We stopped prednisolone and mycophenolate/azathioprine in all the hospitalized patients. In our cohort, one patient developed prerenal uraemia due to severe vomiting. His renal function improved following correction of volume depletion. The patient who was treated for ABMR (antibody-mediated rejection) during the past three months developed worsening of renal function after mechanical ventilation and required RRT. Rest of the patients had stable kidney function. We feel that higher incidence of AKI in the KTR group than in the nontransplant group might be due to the toxicity of lopinavir/ritonavir, supratherapeutic levels of tacrolimus caused by drug interaction, calcineurin inhibitor (CNI) toxicity, or acute rejection due to withdrawal of immunosuppression. In their short series, Elhadedy et al. showed that hospitalized KTRs with COVID-19 can be managed conservatively with oxygen supplementation and adjusting immunosuppression by withholding mycophenolate. However, they recommended the use of remdesivir in this group of patients as we have followed in our treatment regimen [20].$$$Remdesivir is a nucleoside analogue that inhibits viral RNA-dependant RNA polymerase, thus interfering with RNA replication. The Adaptive COVID-19 Treatment Trial (NCT04280705) demonstrated that 31% faster recovery time can be attained in remdesivir-treated patients when compared to controls [37]. US FDA has authorized the use of remdesivir as a treatment option for hospitalized COVID-19 patients. 12 patients in our cohort received 5–8 doses of remdesivir without any untoward effects. Their hepatic and kidney function remained stable. Tacrolimus trough levels were maintained at 4–6 ng/ml, and there was no nephrotoxicity due to supratherapeutic levels. Pettit et al. described that remdesivir-associated adverse effects occurred infrequently and with low severity and were not different in those with and without severe renal insufficiency [38]. Remdesivir has not been reported to cause any liver function abnormalities or any other major adverse events [39].$$$The Recovery Collaborative Group has shown that dexamethasone benefits hospitalized patients receiving oxygen therapy. As all our admitted patients were high-risk group and had moderate to severe pneumonia with or without oxygen supplementation, we gave them dexamethasone as per the protocol of Recovery Trial [33].$$$In three previous case series and one multicentre study, [4, 5, 8, 13] where KTRs with COVID-19 were treated with antiretroviral drugs and/or HCQ and azithromycin, the mortality ranged from 14.8% to 28%. In our study, 8 patients who were telemonitored at home had uneventful course and recovered in 8–10 days. Out of 12 hospitalized patients in our cohort, 10 (91·7%) patients recovered completely, 5 patients had a hospital stay of 8 days, and 5 were discharged on the 14th day. 2 patients were treated in ICU, 1 required noninvasive ventilation, and 1 required mechanical ventilation. 1 patient on NIV rapidly deteriorated in 6 hours required mechanical ventilation and expired. He had CABG 4 years prior to his kidney transplantation. Hence, we had a mortality rate of 5% in our cohort of 20 KTRs with COVID-19. The multicentre study from India reported an overall mortality of 14.8% in hospitalized patients [13]. 47% of their ICU patients and 97% of their mechanically ventilated patients expired [13]. The Columbia University Group Study reported a mortality of 25% in their cohort of KTRs with COVID-19 [5]. It will be meaningful if we compare them with mortality rates in general population with COVID-19. Mortality in our cohort of transplant recipients was comparable to nontransplant hospitalized patients.$$$It is very tempting to speculate the efficacy of our regimen in improving the outcomes of kidney transplant recipients with COVID-19 infection having moderate to severe pneumonia. As the immunosuppression is modulated and not completely withdrawn, there were no episodes of renal failure due to allograft rejection. All the patients had an eGFR >30 ml/min/1·73 m2, and remdesivir was given in normal doses.$$$Small sample size, short duration of the study, and limited period of follow up are limitations in the current study. The confounding factor in our study is dexamethasone, and one may attribute the benefit to dexamethasone alone.$$$We presented 20 kidney transplant recipients with SARS-CoV-2 infection. 12 of them were admitted to hospital. Their presenting symptoms were similar to COVID-19 in general population. There was rapid deterioration of some of these patients compared with COVID-19 patients in general population. HRCT was important in assessing the severity of pneumonia and decision regarding hospitalisation of patients. We believe home treatment is not safe as there are no definitive parameters to decide which of these patients are likely to develop complications requiring urgent hospitalisation. Early hospitalisation and aggressive management helped in reducing the mortality of KTRs. Uniform diagnostic approach and treatment plan has contributed to favourable outcome and recovery. Appropriate modification of immunosuppression and continuation of tacrolimus with monitoring of trough levels of the drug aided in the prevention of allograft rejection as well as CNI toxicity. Combination of remdesivir and dexamethasone therapy along with standard of care treatment appears to have significantly contributed to the reduced mortality. Larger clinical registries and randomized control studies are required to establish the efficacy of this treatment strategy in transplant recipients.\",\n",
       " 'meta': {'sha': 'bb9e6ed5c0e9de74bfd98b8311b446cb3d9384bf',\n",
       "  'title': 'SARS-CoV-2 Infection in Kidney Transplant Recipients: A Single-Centre Study of 20 Cases from India',\n",
       "  'publish_time': '2021-11-05',\n",
       "  'authors': ['Tatapudi', 'Ravi Raju', 'Kopparti', 'Venkateswara Rao'],\n",
       "  'url': 'https://www.ncbi.nlm.nih.gov/pubmed/34745662/; https://doi.org/10.1155/2021/2243095'}}"
      ]
     },
     "execution_count": 18,
     "metadata": {},
     "output_type": "execute_result"
    }
   ],
   "source": [
    "final_dicts[0]"
   ]
  },
  {
   "cell_type": "code",
   "execution_count": 19,
   "metadata": {},
   "outputs": [
    {
     "data": {
      "text/plain": [
       "{'sha': 'bb9e6ed5c0e9de74bfd98b8311b446cb3d9384bf',\n",
       " 'title': 'SARS-CoV-2 Infection in Kidney Transplant Recipients: A Single-Centre Study of 20 Cases from India',\n",
       " 'publish_time': '2021-11-05',\n",
       " 'authors': ['Tatapudi', 'Ravi Raju', 'Kopparti', 'Venkateswara Rao'],\n",
       " 'url': 'https://www.ncbi.nlm.nih.gov/pubmed/34745662/; https://doi.org/10.1155/2021/2243095'}"
      ]
     },
     "execution_count": 19,
     "metadata": {},
     "output_type": "execute_result"
    }
   ],
   "source": [
    "dicts[0]"
   ]
  },
  {
   "cell_type": "code",
   "execution_count": 20,
   "metadata": {},
   "outputs": [],
   "source": [
    "from azure.core.exceptions import AzureError"
   ]
  },
  {
   "cell_type": "code",
   "execution_count": 21,
   "metadata": {},
   "outputs": [],
   "source": [
    "# from haystack.nodes.retriever import EmbeddingRetriever"
   ]
  },
  {
   "cell_type": "code",
   "execution_count": 22,
   "metadata": {},
   "outputs": [],
   "source": [
    "# from haystack.nodes.reader import FARMReader"
   ]
  },
  {
   "cell_type": "code",
   "execution_count": 23,
   "metadata": {},
   "outputs": [
    {
     "name": "stderr",
     "output_type": "stream",
     "text": [
      "06/01/2023 11:55:54 - INFO - faiss.loader -   Loading faiss with AVX2 support.\n",
      "06/01/2023 11:55:54 - INFO - faiss.loader -   Successfully loaded faiss with AVX2 support.\n",
      "06/01/2023 11:55:54 - INFO - farm.modeling.prediction_head -   Better speed can be achieved with apex installed from https://www.github.com/nvidia/apex .\n"
     ]
    }
   ],
   "source": [
    "from haystack.document_store.elasticsearch import ElasticsearchDocumentStore"
   ]
  },
  {
   "cell_type": "code",
   "execution_count": 24,
   "metadata": {},
   "outputs": [],
   "source": [
    "# from haystack.document_stores.elasticsearch import ElasticsearchDocumentStore"
   ]
  },
  {
   "cell_type": "code",
   "execution_count": 25,
   "metadata": {},
   "outputs": [
    {
     "name": "stderr",
     "output_type": "stream",
     "text": [
      "c:\\Users\\Hossam\\anaconda3\\envs\\mygp\\lib\\site-packages\\elasticsearch\\connection\\base.py:190: ElasticsearchDeprecationWarning: Elasticsearch built-in security features are not enabled. Without authentication, your cluster could be accessible to anyone. See https://www.elastic.co/guide/en/elasticsearch/reference/7.17/security-minimal-setup.html to enable security.\n",
      "  warnings.warn(message, category=ElasticsearchDeprecationWarning)\n",
      "06/01/2023 11:55:55 - INFO - elasticsearch -   HEAD http://localhost:9200/ [status:200 request:0.014s]\n",
      "06/01/2023 11:55:55 - INFO - elasticsearch -   HEAD http://localhost:9200/document [status:200 request:0.004s]\n",
      "06/01/2023 11:55:55 - INFO - elasticsearch -   GET http://localhost:9200/document [status:200 request:0.002s]\n",
      "06/01/2023 11:55:55 - INFO - elasticsearch -   PUT http://localhost:9200/document/_mapping [status:200 request:0.012s]\n",
      "06/01/2023 11:55:55 - INFO - elasticsearch -   HEAD http://localhost:9200/label [status:200 request:0.005s]\n"
     ]
    }
   ],
   "source": [
    "document_store = ElasticsearchDocumentStore(host = 'localhost',username=\"\",password=\"\",index='document')"
   ]
  },
  {
   "cell_type": "code",
   "execution_count": 26,
   "metadata": {},
   "outputs": [
    {
     "data": {
      "text/plain": [
       "22187"
      ]
     },
     "execution_count": 26,
     "metadata": {},
     "output_type": "execute_result"
    }
   ],
   "source": [
    "len(final_dicts)"
   ]
  },
  {
   "cell_type": "code",
   "execution_count": 38,
   "metadata": {},
   "outputs": [],
   "source": [
    "converted_dicts = []\n",
    "for doc in final_dicts:\n",
    "    converted_doc = {}\n",
    "    for key, value in doc.items():\n",
    "        if isinstance(value, float):\n",
    "            converted_doc[key] = str(value)  # Convert float to string\n",
    "        else:\n",
    "            converted_doc[key] = value\n",
    "    converted_dicts.append(converted_doc)"
   ]
  },
  {
   "cell_type": "code",
   "execution_count": 29,
   "metadata": {},
   "outputs": [
    {
     "name": "stderr",
     "output_type": "stream",
     "text": [
      "06/01/2023 11:57:47 - INFO - elasticsearch -   POST http://localhost:9200/_bulk?refresh=wait_for [status:200 request:1.620s]\n",
      "06/01/2023 11:57:48 - INFO - elasticsearch -   POST http://localhost:9200/_bulk?refresh=wait_for [status:200 request:1.228s]\n",
      "06/01/2023 11:57:49 - INFO - elasticsearch -   POST http://localhost:9200/_bulk?refresh=wait_for [status:200 request:1.167s]\n",
      "06/01/2023 11:57:51 - INFO - elasticsearch -   POST http://localhost:9200/_bulk?refresh=wait_for [status:200 request:1.112s]\n",
      "06/01/2023 11:57:53 - INFO - elasticsearch -   POST http://localhost:9200/_bulk?refresh=wait_for [status:200 request:2.540s]\n",
      "06/01/2023 11:57:55 - INFO - elasticsearch -   POST http://localhost:9200/_bulk?refresh=wait_for [status:200 request:1.808s]\n",
      "06/01/2023 11:57:58 - INFO - elasticsearch -   POST http://localhost:9200/_bulk?refresh=wait_for [status:200 request:2.086s]\n",
      "06/01/2023 11:57:59 - INFO - elasticsearch -   POST http://localhost:9200/_bulk?refresh=wait_for [status:200 request:1.094s]\n",
      "06/01/2023 11:58:00 - INFO - elasticsearch -   POST http://localhost:9200/_bulk?refresh=wait_for [status:200 request:1.126s]\n",
      "06/01/2023 11:58:01 - INFO - elasticsearch -   POST http://localhost:9200/_bulk?refresh=wait_for [status:200 request:1.120s]\n",
      "06/01/2023 11:58:04 - INFO - elasticsearch -   POST http://localhost:9200/_bulk?refresh=wait_for [status:200 request:2.100s]\n",
      "06/01/2023 11:58:06 - INFO - elasticsearch -   POST http://localhost:9200/_bulk?refresh=wait_for [status:200 request:2.105s]\n",
      "06/01/2023 11:58:08 - INFO - elasticsearch -   POST http://localhost:9200/_bulk?refresh=wait_for [status:200 request:2.097s]\n",
      "06/01/2023 11:58:09 - INFO - elasticsearch -   POST http://localhost:9200/_bulk?refresh=wait_for [status:200 request:1.107s]\n",
      "06/01/2023 11:58:12 - INFO - elasticsearch -   POST http://localhost:9200/_bulk?refresh=wait_for [status:200 request:2.147s]\n",
      "06/01/2023 11:58:14 - INFO - elasticsearch -   POST http://localhost:9200/_bulk?refresh=wait_for [status:200 request:2.164s]\n",
      "06/01/2023 11:58:16 - INFO - elasticsearch -   POST http://localhost:9200/_bulk?refresh=wait_for [status:200 request:2.055s]\n",
      "06/01/2023 11:58:20 - INFO - elasticsearch -   POST http://localhost:9200/_bulk?refresh=wait_for [status:200 request:3.126s]\n",
      "06/01/2023 11:58:22 - INFO - elasticsearch -   POST http://localhost:9200/_bulk?refresh=wait_for [status:200 request:2.072s]\n",
      "06/01/2023 11:58:23 - INFO - elasticsearch -   POST http://localhost:9200/_bulk?refresh=wait_for [status:200 request:1.086s]\n",
      "06/01/2023 11:58:25 - INFO - elasticsearch -   POST http://localhost:9200/_bulk?refresh=wait_for [status:200 request:1.915s]\n",
      "06/01/2023 11:58:30 - INFO - elasticsearch -   POST http://localhost:9200/_bulk?refresh=wait_for [status:200 request:4.089s]\n",
      "06/01/2023 11:58:31 - INFO - elasticsearch -   POST http://localhost:9200/_bulk?refresh=wait_for [status:200 request:1.098s]\n",
      "06/01/2023 11:58:32 - INFO - elasticsearch -   POST http://localhost:9200/_bulk?refresh=wait_for [status:200 request:1.098s]\n",
      "06/01/2023 11:58:33 - INFO - elasticsearch -   POST http://localhost:9200/_bulk?refresh=wait_for [status:200 request:1.120s]\n",
      "06/01/2023 11:58:35 - INFO - elasticsearch -   POST http://localhost:9200/_bulk?refresh=wait_for [status:200 request:1.111s]\n",
      "06/01/2023 11:58:36 - INFO - elasticsearch -   POST http://localhost:9200/_bulk?refresh=wait_for [status:200 request:1.100s]\n",
      "06/01/2023 11:58:37 - INFO - elasticsearch -   POST http://localhost:9200/_bulk?refresh=wait_for [status:200 request:1.128s]\n",
      "06/01/2023 11:58:38 - INFO - elasticsearch -   POST http://localhost:9200/_bulk?refresh=wait_for [status:200 request:1.102s]\n",
      "06/01/2023 11:58:40 - INFO - elasticsearch -   POST http://localhost:9200/_bulk?refresh=wait_for [status:200 request:1.101s]\n",
      "06/01/2023 11:58:41 - INFO - elasticsearch -   POST http://localhost:9200/_bulk?refresh=wait_for [status:200 request:1.112s]\n",
      "06/01/2023 11:58:42 - INFO - elasticsearch -   POST http://localhost:9200/_bulk?refresh=wait_for [status:200 request:1.096s]\n",
      "06/01/2023 11:58:43 - INFO - elasticsearch -   POST http://localhost:9200/_bulk?refresh=wait_for [status:200 request:1.093s]\n",
      "06/01/2023 11:58:44 - INFO - elasticsearch -   POST http://localhost:9200/_bulk?refresh=wait_for [status:200 request:1.097s]\n",
      "06/01/2023 11:58:46 - INFO - elasticsearch -   POST http://localhost:9200/_bulk?refresh=wait_for [status:200 request:1.100s]\n",
      "06/01/2023 11:58:47 - INFO - elasticsearch -   POST http://localhost:9200/_bulk?refresh=wait_for [status:200 request:1.094s]\n",
      "06/01/2023 11:58:49 - INFO - elasticsearch -   POST http://localhost:9200/_bulk?refresh=wait_for [status:200 request:2.100s]\n",
      "06/01/2023 11:58:50 - INFO - elasticsearch -   POST http://localhost:9200/_bulk?refresh=wait_for [status:200 request:1.100s]\n",
      "06/01/2023 11:58:52 - INFO - elasticsearch -   POST http://localhost:9200/_bulk?refresh=wait_for [status:200 request:1.236s]\n",
      "06/01/2023 11:58:54 - INFO - elasticsearch -   POST http://localhost:9200/_bulk?refresh=wait_for [status:200 request:1.852s]\n",
      "06/01/2023 11:58:56 - INFO - elasticsearch -   POST http://localhost:9200/_bulk?refresh=wait_for [status:200 request:2.024s]\n",
      "06/01/2023 11:58:57 - INFO - elasticsearch -   POST http://localhost:9200/_bulk?refresh=wait_for [status:200 request:1.103s]\n",
      "06/01/2023 11:58:59 - INFO - elasticsearch -   POST http://localhost:9200/_bulk?refresh=wait_for [status:200 request:1.094s]\n",
      "06/01/2023 11:59:00 - INFO - elasticsearch -   POST http://localhost:9200/_bulk?refresh=wait_for [status:200 request:1.189s]\n",
      "06/01/2023 11:59:01 - INFO - elasticsearch -   POST http://localhost:9200/_bulk?refresh=wait_for [status:200 request:1.020s]\n"
     ]
    }
   ],
   "source": [
    "document_store.write_documents(converted_dicts)"
   ]
  },
  {
   "cell_type": "code",
   "execution_count": 30,
   "metadata": {},
   "outputs": [],
   "source": []
  }
 ],
 "metadata": {
  "kernelspec": {
   "display_name": "base",
   "language": "python",
   "name": "python3"
  },
  "language_info": {
   "codemirror_mode": {
    "name": "ipython",
    "version": 3
   },
   "file_extension": ".py",
   "mimetype": "text/x-python",
   "name": "python",
   "nbconvert_exporter": "python",
   "pygments_lexer": "ipython3",
   "version": "3.8.16"
  },
  "orig_nbformat": 4
 },
 "nbformat": 4,
 "nbformat_minor": 2
}
