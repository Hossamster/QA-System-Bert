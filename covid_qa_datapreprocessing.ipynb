{
 "cells": [
  {
   "cell_type": "code",
   "execution_count": 15,
   "metadata": {},
   "outputs": [],
   "source": [
    "import pandas as pd\n",
    "import numpy as np\n",
    "import glob\n",
    "import json\n",
    "import time \n",
    "from tqdm import tqdm\n",
    "from time import sleep"
   ]
  },
  {
   "attachments": {},
   "cell_type": "markdown",
   "metadata": {},
   "source": [
    "# Downloading the CORD19 dataset\n",
    "###### https://ai2-semanticscholar-cord-19.s3-us-west-2.amazonaws.com/historical_releases.html\n",
    "###### https://github.com/allenai/cord19"
   ]
  },
  {
   "cell_type": "code",
   "execution_count": 16,
   "metadata": {},
   "outputs": [],
   "source": [
    "metadata_path = r\"D:\\BUE\\GP\\testing\\metadata_sample.pickle\"\n",
    "df_metadata = pd.DataFrame(pd.read_pickle(metadata_path))"
   ]
  },
  {
   "cell_type": "code",
   "execution_count": 17,
   "metadata": {},
   "outputs": [],
   "source": [
    "pdf_path = r'D:\\BUE\\GP\\testing\\json_pdf_sample.pickle'\n",
    "df_pdf = pd.DataFrame(pd.read_pickle(pdf_path))"
   ]
  },
  {
   "cell_type": "code",
   "execution_count": 18,
   "metadata": {},
   "outputs": [],
   "source": [
    "pmc_path = r'D:\\BUE\\GP\\testing\\json_pmc_sample.pickle'\n",
    "df_pmc = pd.DataFrame(pd.read_pickle(pmc_path))"
   ]
  },
  {
   "cell_type": "code",
   "execution_count": 19,
   "metadata": {},
   "outputs": [
    {
     "data": {
      "text/html": [
       "<div>\n",
       "<style scoped>\n",
       "    .dataframe tbody tr th:only-of-type {\n",
       "        vertical-align: middle;\n",
       "    }\n",
       "\n",
       "    .dataframe tbody tr th {\n",
       "        vertical-align: top;\n",
       "    }\n",
       "\n",
       "    .dataframe thead th {\n",
       "        text-align: right;\n",
       "    }\n",
       "</style>\n",
       "<table border=\"1\" class=\"dataframe\">\n",
       "  <thead>\n",
       "    <tr style=\"text-align: right;\">\n",
       "      <th></th>\n",
       "      <th>paper_id</th>\n",
       "      <th>abstract</th>\n",
       "      <th>body_text</th>\n",
       "    </tr>\n",
       "  </thead>\n",
       "  <tbody>\n",
       "    <tr>\n",
       "      <th>4</th>\n",
       "      <td>e0777fb5df224525ee1b06008582b084c1b6b13b</td>\n",
       "      <td>The burden of hypertension in South Africa, as...</td>\n",
       "      <td>Raised blood pressure (BP) and hypertension ar...</td>\n",
       "    </tr>\n",
       "  </tbody>\n",
       "</table>\n",
       "</div>"
      ],
      "text/plain": [
       "                                   paper_id  \\\n",
       "4  e0777fb5df224525ee1b06008582b084c1b6b13b   \n",
       "\n",
       "                                            abstract  \\\n",
       "4  The burden of hypertension in South Africa, as...   \n",
       "\n",
       "                                           body_text  \n",
       "4  Raised blood pressure (BP) and hypertension ar...  "
      ]
     },
     "execution_count": 19,
     "metadata": {},
     "output_type": "execute_result"
    }
   ],
   "source": [
    "df_pdf.head(1)"
   ]
  },
  {
   "cell_type": "code",
   "execution_count": 20,
   "metadata": {},
   "outputs": [
    {
     "data": {
      "text/html": [
       "<div>\n",
       "<style scoped>\n",
       "    .dataframe tbody tr th:only-of-type {\n",
       "        vertical-align: middle;\n",
       "    }\n",
       "\n",
       "    .dataframe tbody tr th {\n",
       "        vertical-align: top;\n",
       "    }\n",
       "\n",
       "    .dataframe thead th {\n",
       "        text-align: right;\n",
       "    }\n",
       "</style>\n",
       "<table border=\"1\" class=\"dataframe\">\n",
       "  <thead>\n",
       "    <tr style=\"text-align: right;\">\n",
       "      <th></th>\n",
       "      <th>paper_id</th>\n",
       "      <th>body_text</th>\n",
       "    </tr>\n",
       "  </thead>\n",
       "  <tbody>\n",
       "    <tr>\n",
       "      <th>66</th>\n",
       "      <td>PMC8742156</td>\n",
       "      <td>The COVID-19 pandemic had a major impact on th...</td>\n",
       "    </tr>\n",
       "  </tbody>\n",
       "</table>\n",
       "</div>"
      ],
      "text/plain": [
       "      paper_id                                          body_text\n",
       "66  PMC8742156  The COVID-19 pandemic had a major impact on th..."
      ]
     },
     "execution_count": 20,
     "metadata": {},
     "output_type": "execute_result"
    }
   ],
   "source": [
    "df_pmc.head(1)"
   ]
  },
  {
   "cell_type": "code",
   "execution_count": 21,
   "metadata": {},
   "outputs": [
    {
     "data": {
      "text/html": [
       "<div>\n",
       "<style scoped>\n",
       "    .dataframe tbody tr th:only-of-type {\n",
       "        vertical-align: middle;\n",
       "    }\n",
       "\n",
       "    .dataframe tbody tr th {\n",
       "        vertical-align: top;\n",
       "    }\n",
       "\n",
       "    .dataframe thead th {\n",
       "        text-align: right;\n",
       "    }\n",
       "</style>\n",
       "<table border=\"1\" class=\"dataframe\">\n",
       "  <thead>\n",
       "    <tr style=\"text-align: right;\">\n",
       "      <th></th>\n",
       "      <th>cord_uid</th>\n",
       "      <th>sha</th>\n",
       "      <th>source_x</th>\n",
       "      <th>title</th>\n",
       "      <th>doi</th>\n",
       "      <th>pmcid</th>\n",
       "      <th>pubmed_id</th>\n",
       "      <th>license</th>\n",
       "      <th>abstract</th>\n",
       "      <th>publish_time</th>\n",
       "      <th>authors</th>\n",
       "      <th>journal</th>\n",
       "      <th>mag_id</th>\n",
       "      <th>who_covidence_id</th>\n",
       "      <th>arxiv_id</th>\n",
       "      <th>pdf_json_files</th>\n",
       "      <th>pmc_json_files</th>\n",
       "      <th>url</th>\n",
       "      <th>s2_id</th>\n",
       "    </tr>\n",
       "  </thead>\n",
       "  <tbody>\n",
       "    <tr>\n",
       "      <th>900672</th>\n",
       "      <td>lepnladl</td>\n",
       "      <td>bb9e6ed5c0e9de74bfd98b8311b446cb3d9384bf</td>\n",
       "      <td>Medline; PMC; WHO</td>\n",
       "      <td>SARS-CoV-2 Infection in Kidney Transplant Reci...</td>\n",
       "      <td>10.1155/2021/2243095</td>\n",
       "      <td>PMC8570907</td>\n",
       "      <td>34745662</td>\n",
       "      <td>cc-by</td>\n",
       "      <td>INTRODUCTION: The second wave of COVID-19 has ...</td>\n",
       "      <td>2021-11-05</td>\n",
       "      <td>Tatapudi, Ravi Raju; Kopparti, Venkateswara Ra...</td>\n",
       "      <td>Int J Nephrol</td>\n",
       "      <td>NaN</td>\n",
       "      <td>NaN</td>\n",
       "      <td>NaN</td>\n",
       "      <td>document_parses/pdf_json/bb9e6ed5c0e9de74bfd98...</td>\n",
       "      <td>document_parses/pmc_json/PMC8570907.xml.json</td>\n",
       "      <td>https://www.ncbi.nlm.nih.gov/pubmed/34745662/;...</td>\n",
       "      <td>243800529.0</td>\n",
       "    </tr>\n",
       "  </tbody>\n",
       "</table>\n",
       "</div>"
      ],
      "text/plain": [
       "        cord_uid                                       sha           source_x  \\\n",
       "900672  lepnladl  bb9e6ed5c0e9de74bfd98b8311b446cb3d9384bf  Medline; PMC; WHO   \n",
       "\n",
       "                                                    title  \\\n",
       "900672  SARS-CoV-2 Infection in Kidney Transplant Reci...   \n",
       "\n",
       "                         doi       pmcid pubmed_id license  \\\n",
       "900672  10.1155/2021/2243095  PMC8570907  34745662   cc-by   \n",
       "\n",
       "                                                 abstract publish_time  \\\n",
       "900672  INTRODUCTION: The second wave of COVID-19 has ...   2021-11-05   \n",
       "\n",
       "                                                  authors        journal  \\\n",
       "900672  Tatapudi, Ravi Raju; Kopparti, Venkateswara Ra...  Int J Nephrol   \n",
       "\n",
       "        mag_id who_covidence_id arxiv_id  \\\n",
       "900672     NaN              NaN      NaN   \n",
       "\n",
       "                                           pdf_json_files  \\\n",
       "900672  document_parses/pdf_json/bb9e6ed5c0e9de74bfd98...   \n",
       "\n",
       "                                      pmc_json_files  \\\n",
       "900672  document_parses/pmc_json/PMC8570907.xml.json   \n",
       "\n",
       "                                                      url        s2_id  \n",
       "900672  https://www.ncbi.nlm.nih.gov/pubmed/34745662/;...  243800529.0  "
      ]
     },
     "execution_count": 21,
     "metadata": {},
     "output_type": "execute_result"
    }
   ],
   "source": [
    "df_metadata.head(1)"
   ]
  },
  {
   "attachments": {},
   "cell_type": "markdown",
   "metadata": {},
   "source": [
    "# Data merging (metadata,pdf,pmc)"
   ]
  },
  {
   "cell_type": "code",
   "execution_count": 22,
   "metadata": {},
   "outputs": [],
   "source": [
    "df_merged = pd.merge(df_metadata, df_pdf,left_on ='sha',right_on ='paper_id',how = 'left')"
   ]
  },
  {
   "cell_type": "code",
   "execution_count": 23,
   "metadata": {},
   "outputs": [
    {
     "data": {
      "text/html": [
       "<div>\n",
       "<style scoped>\n",
       "    .dataframe tbody tr th:only-of-type {\n",
       "        vertical-align: middle;\n",
       "    }\n",
       "\n",
       "    .dataframe tbody tr th {\n",
       "        vertical-align: top;\n",
       "    }\n",
       "\n",
       "    .dataframe thead th {\n",
       "        text-align: right;\n",
       "    }\n",
       "</style>\n",
       "<table border=\"1\" class=\"dataframe\">\n",
       "  <thead>\n",
       "    <tr style=\"text-align: right;\">\n",
       "      <th></th>\n",
       "      <th>cord_uid</th>\n",
       "      <th>sha</th>\n",
       "      <th>source_x</th>\n",
       "      <th>title</th>\n",
       "      <th>doi</th>\n",
       "      <th>pmcid</th>\n",
       "      <th>pubmed_id</th>\n",
       "      <th>license</th>\n",
       "      <th>abstract_x</th>\n",
       "      <th>publish_time</th>\n",
       "      <th>...</th>\n",
       "      <th>mag_id</th>\n",
       "      <th>who_covidence_id</th>\n",
       "      <th>arxiv_id</th>\n",
       "      <th>pdf_json_files</th>\n",
       "      <th>pmc_json_files</th>\n",
       "      <th>url</th>\n",
       "      <th>s2_id</th>\n",
       "      <th>paper_id</th>\n",
       "      <th>abstract_y</th>\n",
       "      <th>body_text</th>\n",
       "    </tr>\n",
       "  </thead>\n",
       "  <tbody>\n",
       "    <tr>\n",
       "      <th>0</th>\n",
       "      <td>lepnladl</td>\n",
       "      <td>bb9e6ed5c0e9de74bfd98b8311b446cb3d9384bf</td>\n",
       "      <td>Medline; PMC; WHO</td>\n",
       "      <td>SARS-CoV-2 Infection in Kidney Transplant Reci...</td>\n",
       "      <td>10.1155/2021/2243095</td>\n",
       "      <td>PMC8570907</td>\n",
       "      <td>34745662</td>\n",
       "      <td>cc-by</td>\n",
       "      <td>INTRODUCTION: The second wave of COVID-19 has ...</td>\n",
       "      <td>2021-11-05</td>\n",
       "      <td>...</td>\n",
       "      <td>NaN</td>\n",
       "      <td>NaN</td>\n",
       "      <td>NaN</td>\n",
       "      <td>document_parses/pdf_json/bb9e6ed5c0e9de74bfd98...</td>\n",
       "      <td>document_parses/pmc_json/PMC8570907.xml.json</td>\n",
       "      <td>https://www.ncbi.nlm.nih.gov/pubmed/34745662/;...</td>\n",
       "      <td>243800529.0</td>\n",
       "      <td>bb9e6ed5c0e9de74bfd98b8311b446cb3d9384bf</td>\n",
       "      <td>Introduction. e second wave of COVID-19 has sp...</td>\n",
       "      <td>Severe acute respiratory syndrome corona virus...</td>\n",
       "    </tr>\n",
       "    <tr>\n",
       "      <th>1</th>\n",
       "      <td>ubuyzmok</td>\n",
       "      <td>758f8b07a1fdd2360cfe66f478150eedc23f602e</td>\n",
       "      <td>Medline; PMC; WHO</td>\n",
       "      <td>Genomic and Ancestral Variation Underlies the ...</td>\n",
       "      <td>10.3390/life11090921</td>\n",
       "      <td>PMC8470085</td>\n",
       "      <td>34575070</td>\n",
       "      <td>cc-by</td>\n",
       "      <td>The coronavirus disease (COVID-19) caused by t...</td>\n",
       "      <td>2021-09-05</td>\n",
       "      <td>...</td>\n",
       "      <td>NaN</td>\n",
       "      <td>NaN</td>\n",
       "      <td>NaN</td>\n",
       "      <td>document_parses/pdf_json/758f8b07a1fdd2360cfe6...</td>\n",
       "      <td>document_parses/pmc_json/PMC8470085.xml.json</td>\n",
       "      <td>https://doi.org/10.3390/life11090921; https://...</td>\n",
       "      <td>237934658.0</td>\n",
       "      <td>758f8b07a1fdd2360cfe66f478150eedc23f602e</td>\n",
       "      <td></td>\n",
       "      <td>Since its outbreak in December 2019 in Wuhan, ...</td>\n",
       "    </tr>\n",
       "  </tbody>\n",
       "</table>\n",
       "<p>2 rows × 22 columns</p>\n",
       "</div>"
      ],
      "text/plain": [
       "   cord_uid                                       sha           source_x  \\\n",
       "0  lepnladl  bb9e6ed5c0e9de74bfd98b8311b446cb3d9384bf  Medline; PMC; WHO   \n",
       "1  ubuyzmok  758f8b07a1fdd2360cfe66f478150eedc23f602e  Medline; PMC; WHO   \n",
       "\n",
       "                                               title                   doi  \\\n",
       "0  SARS-CoV-2 Infection in Kidney Transplant Reci...  10.1155/2021/2243095   \n",
       "1  Genomic and Ancestral Variation Underlies the ...  10.3390/life11090921   \n",
       "\n",
       "        pmcid pubmed_id license  \\\n",
       "0  PMC8570907  34745662   cc-by   \n",
       "1  PMC8470085  34575070   cc-by   \n",
       "\n",
       "                                          abstract_x publish_time  ... mag_id  \\\n",
       "0  INTRODUCTION: The second wave of COVID-19 has ...   2021-11-05  ...    NaN   \n",
       "1  The coronavirus disease (COVID-19) caused by t...   2021-09-05  ...    NaN   \n",
       "\n",
       "  who_covidence_id  arxiv_id  \\\n",
       "0              NaN       NaN   \n",
       "1              NaN       NaN   \n",
       "\n",
       "                                      pdf_json_files  \\\n",
       "0  document_parses/pdf_json/bb9e6ed5c0e9de74bfd98...   \n",
       "1  document_parses/pdf_json/758f8b07a1fdd2360cfe6...   \n",
       "\n",
       "                                 pmc_json_files  \\\n",
       "0  document_parses/pmc_json/PMC8570907.xml.json   \n",
       "1  document_parses/pmc_json/PMC8470085.xml.json   \n",
       "\n",
       "                                                 url        s2_id  \\\n",
       "0  https://www.ncbi.nlm.nih.gov/pubmed/34745662/;...  243800529.0   \n",
       "1  https://doi.org/10.3390/life11090921; https://...  237934658.0   \n",
       "\n",
       "                                   paper_id  \\\n",
       "0  bb9e6ed5c0e9de74bfd98b8311b446cb3d9384bf   \n",
       "1  758f8b07a1fdd2360cfe66f478150eedc23f602e   \n",
       "\n",
       "                                          abstract_y  \\\n",
       "0  Introduction. e second wave of COVID-19 has sp...   \n",
       "1                                                      \n",
       "\n",
       "                                           body_text  \n",
       "0  Severe acute respiratory syndrome corona virus...  \n",
       "1  Since its outbreak in December 2019 in Wuhan, ...  \n",
       "\n",
       "[2 rows x 22 columns]"
      ]
     },
     "execution_count": 23,
     "metadata": {},
     "output_type": "execute_result"
    }
   ],
   "source": [
    "df_merged.head(2)"
   ]
  },
  {
   "cell_type": "code",
   "execution_count": 9,
   "metadata": {},
   "outputs": [
    {
     "data": {
      "text/plain": [
       "Index(['cord_uid', 'sha', 'source_x', 'title', 'doi', 'pmcid', 'pubmed_id',\n",
       "       'license', 'abstract', 'publish_time', 'authors', 'journal', 'mag_id',\n",
       "       'who_covidence_id', 'arxiv_id', 'pdf_json_files', 'pmc_json_files',\n",
       "       'url', 's2_id'],\n",
       "      dtype='object')"
      ]
     },
     "execution_count": 9,
     "metadata": {},
     "output_type": "execute_result"
    }
   ],
   "source": [
    "df_metadata.columns"
   ]
  },
  {
   "cell_type": "code",
   "execution_count": 24,
   "metadata": {},
   "outputs": [
    {
     "data": {
      "text/html": [
       "<div>\n",
       "<style scoped>\n",
       "    .dataframe tbody tr th:only-of-type {\n",
       "        vertical-align: middle;\n",
       "    }\n",
       "\n",
       "    .dataframe tbody tr th {\n",
       "        vertical-align: top;\n",
       "    }\n",
       "\n",
       "    .dataframe thead th {\n",
       "        text-align: right;\n",
       "    }\n",
       "</style>\n",
       "<table border=\"1\" class=\"dataframe\">\n",
       "  <thead>\n",
       "    <tr style=\"text-align: right;\">\n",
       "      <th></th>\n",
       "      <th>paper_id</th>\n",
       "      <th>abstract</th>\n",
       "      <th>body_text</th>\n",
       "    </tr>\n",
       "  </thead>\n",
       "  <tbody>\n",
       "    <tr>\n",
       "      <th>4</th>\n",
       "      <td>e0777fb5df224525ee1b06008582b084c1b6b13b</td>\n",
       "      <td>The burden of hypertension in South Africa, as...</td>\n",
       "      <td>Raised blood pressure (BP) and hypertension ar...</td>\n",
       "    </tr>\n",
       "    <tr>\n",
       "      <th>5</th>\n",
       "      <td>ee5af71875f2e77135974c75980ce22fff03e4f8</td>\n",
       "      <td></td>\n",
       "      <td>Particularly in these pandemic times, appeals ...</td>\n",
       "    </tr>\n",
       "    <tr>\n",
       "      <th>42</th>\n",
       "      <td>be5efc90a7e5e4cb3ba27f554d2af1f6269fce46</td>\n",
       "      <td>| Seasonal influenza vaccines lack efficacy ag...</td>\n",
       "      <td>Vaccination represents an efficient and cost-e...</td>\n",
       "    </tr>\n",
       "    <tr>\n",
       "      <th>63</th>\n",
       "      <td>99633786b3f427e5789443a44fc5ac9081599dfd</td>\n",
       "      <td></td>\n",
       "      <td>Severe acute respiratory syndrome coronavirus ...</td>\n",
       "    </tr>\n",
       "    <tr>\n",
       "      <th>91</th>\n",
       "      <td>ddd596a5c31a48e0efa95b814e4fe7726abfb25c</td>\n",
       "      <td>Citation: Kekäläinen, T.; Hietavala, E.-M.; Ha...</td>\n",
       "      <td>The novel coronavirus disease was discovered a...</td>\n",
       "    </tr>\n",
       "    <tr>\n",
       "      <th>...</th>\n",
       "      <td>...</td>\n",
       "      <td>...</td>\n",
       "      <td>...</td>\n",
       "    </tr>\n",
       "    <tr>\n",
       "      <th>401100</th>\n",
       "      <td>e69368a663f0be4bb215c4c7b5a04e7bd522013d</td>\n",
       "      <td></td>\n",
       "      <td>among Latinx LEP communities can be additional...</td>\n",
       "    </tr>\n",
       "    <tr>\n",
       "      <th>401129</th>\n",
       "      <td>7b0a5626403739c7a453b68d1adfb2484b2562a7</td>\n",
       "      <td>This is an open access article under the terms...</td>\n",
       "      <td>According to the Sepsis-3 definition proposed ...</td>\n",
       "    </tr>\n",
       "    <tr>\n",
       "      <th>401130</th>\n",
       "      <td>d103ef3cbfc2be251e111b63fa72d499947ce9d6</td>\n",
       "      <td></td>\n",
       "      <td>Aus Sicht der befragten Stadtvertreter*innen i...</td>\n",
       "    </tr>\n",
       "    <tr>\n",
       "      <th>401161</th>\n",
       "      <td>cf8d3c98bcc60425ead55f1586523e5bbba308fe</td>\n",
       "      <td>Ingestion of magnetic foreign bodies in pediat...</td>\n",
       "      <td>Ingestion of magnetic foreign bodies in pediat...</td>\n",
       "    </tr>\n",
       "    <tr>\n",
       "      <th>401186</th>\n",
       "      <td>2b1873bd1b1720f5cc2629ec0c769d023a63f097</td>\n",
       "      <td></td>\n",
       "      <td>Keywords: Sars-Cov-2; COVID-19; RT-PCR; chest ...</td>\n",
       "    </tr>\n",
       "  </tbody>\n",
       "</table>\n",
       "<p>23355 rows × 3 columns</p>\n",
       "</div>"
      ],
      "text/plain": [
       "                                        paper_id  \\\n",
       "4       e0777fb5df224525ee1b06008582b084c1b6b13b   \n",
       "5       ee5af71875f2e77135974c75980ce22fff03e4f8   \n",
       "42      be5efc90a7e5e4cb3ba27f554d2af1f6269fce46   \n",
       "63      99633786b3f427e5789443a44fc5ac9081599dfd   \n",
       "91      ddd596a5c31a48e0efa95b814e4fe7726abfb25c   \n",
       "...                                          ...   \n",
       "401100  e69368a663f0be4bb215c4c7b5a04e7bd522013d   \n",
       "401129  7b0a5626403739c7a453b68d1adfb2484b2562a7   \n",
       "401130  d103ef3cbfc2be251e111b63fa72d499947ce9d6   \n",
       "401161  cf8d3c98bcc60425ead55f1586523e5bbba308fe   \n",
       "401186  2b1873bd1b1720f5cc2629ec0c769d023a63f097   \n",
       "\n",
       "                                                 abstract  \\\n",
       "4       The burden of hypertension in South Africa, as...   \n",
       "5                                                           \n",
       "42      | Seasonal influenza vaccines lack efficacy ag...   \n",
       "63                                                          \n",
       "91      Citation: Kekäläinen, T.; Hietavala, E.-M.; Ha...   \n",
       "...                                                   ...   \n",
       "401100                                                      \n",
       "401129  This is an open access article under the terms...   \n",
       "401130                                                      \n",
       "401161  Ingestion of magnetic foreign bodies in pediat...   \n",
       "401186                                                      \n",
       "\n",
       "                                                body_text  \n",
       "4       Raised blood pressure (BP) and hypertension ar...  \n",
       "5       Particularly in these pandemic times, appeals ...  \n",
       "42      Vaccination represents an efficient and cost-e...  \n",
       "63      Severe acute respiratory syndrome coronavirus ...  \n",
       "91      The novel coronavirus disease was discovered a...  \n",
       "...                                                   ...  \n",
       "401100  among Latinx LEP communities can be additional...  \n",
       "401129  According to the Sepsis-3 definition proposed ...  \n",
       "401130  Aus Sicht der befragten Stadtvertreter*innen i...  \n",
       "401161  Ingestion of magnetic foreign bodies in pediat...  \n",
       "401186  Keywords: Sars-Cov-2; COVID-19; RT-PCR; chest ...  \n",
       "\n",
       "[23355 rows x 3 columns]"
      ]
     },
     "execution_count": 24,
     "metadata": {},
     "output_type": "execute_result"
    }
   ],
   "source": [
    "df_pdf"
   ]
  },
  {
   "cell_type": "code",
   "execution_count": 25,
   "metadata": {},
   "outputs": [],
   "source": [
    "df_merged = df_merged.drop('paper_id',axis=1)"
   ]
  },
  {
   "cell_type": "code",
   "execution_count": 26,
   "metadata": {},
   "outputs": [
    {
     "data": {
      "text/plain": [
       "Index(['cord_uid', 'sha', 'source_x', 'title', 'doi', 'pmcid', 'pubmed_id',\n",
       "       'license', 'abstract_x', 'publish_time', 'authors', 'journal', 'mag_id',\n",
       "       'who_covidence_id', 'arxiv_id', 'pdf_json_files', 'pmc_json_files',\n",
       "       'url', 's2_id', 'abstract_y', 'body_text'],\n",
       "      dtype='object')"
      ]
     },
     "execution_count": 26,
     "metadata": {},
     "output_type": "execute_result"
    }
   ],
   "source": [
    "df_merged.columns "
   ]
  },
  {
   "cell_type": "code",
   "execution_count": 27,
   "metadata": {},
   "outputs": [
    {
     "data": {
      "text/html": [
       "<div>\n",
       "<style scoped>\n",
       "    .dataframe tbody tr th:only-of-type {\n",
       "        vertical-align: middle;\n",
       "    }\n",
       "\n",
       "    .dataframe tbody tr th {\n",
       "        vertical-align: top;\n",
       "    }\n",
       "\n",
       "    .dataframe thead th {\n",
       "        text-align: right;\n",
       "    }\n",
       "</style>\n",
       "<table border=\"1\" class=\"dataframe\">\n",
       "  <thead>\n",
       "    <tr style=\"text-align: right;\">\n",
       "      <th></th>\n",
       "      <th>cord_uid</th>\n",
       "      <th>sha</th>\n",
       "      <th>source_x</th>\n",
       "      <th>title</th>\n",
       "      <th>doi</th>\n",
       "      <th>pmcid</th>\n",
       "      <th>pubmed_id</th>\n",
       "      <th>license</th>\n",
       "      <th>abstract_x</th>\n",
       "      <th>publish_time</th>\n",
       "      <th>...</th>\n",
       "      <th>who_covidence_id</th>\n",
       "      <th>arxiv_id</th>\n",
       "      <th>pdf_json_files</th>\n",
       "      <th>pmc_json_files</th>\n",
       "      <th>url</th>\n",
       "      <th>s2_id</th>\n",
       "      <th>abstract_y</th>\n",
       "      <th>body_text_x</th>\n",
       "      <th>paper_id</th>\n",
       "      <th>body_text_y</th>\n",
       "    </tr>\n",
       "  </thead>\n",
       "  <tbody>\n",
       "    <tr>\n",
       "      <th>0</th>\n",
       "      <td>lepnladl</td>\n",
       "      <td>bb9e6ed5c0e9de74bfd98b8311b446cb3d9384bf</td>\n",
       "      <td>Medline; PMC; WHO</td>\n",
       "      <td>SARS-CoV-2 Infection in Kidney Transplant Reci...</td>\n",
       "      <td>10.1155/2021/2243095</td>\n",
       "      <td>PMC8570907</td>\n",
       "      <td>34745662</td>\n",
       "      <td>cc-by</td>\n",
       "      <td>INTRODUCTION: The second wave of COVID-19 has ...</td>\n",
       "      <td>2021-11-05</td>\n",
       "      <td>...</td>\n",
       "      <td>NaN</td>\n",
       "      <td>NaN</td>\n",
       "      <td>document_parses/pdf_json/bb9e6ed5c0e9de74bfd98...</td>\n",
       "      <td>document_parses/pmc_json/PMC8570907.xml.json</td>\n",
       "      <td>https://www.ncbi.nlm.nih.gov/pubmed/34745662/;...</td>\n",
       "      <td>243800529.0</td>\n",
       "      <td>Introduction. e second wave of COVID-19 has sp...</td>\n",
       "      <td>Severe acute respiratory syndrome corona virus...</td>\n",
       "      <td>PMC8570907</td>\n",
       "      <td>Severe acute respiratory syndrome corona virus...</td>\n",
       "    </tr>\n",
       "    <tr>\n",
       "      <th>1</th>\n",
       "      <td>ubuyzmok</td>\n",
       "      <td>758f8b07a1fdd2360cfe66f478150eedc23f602e</td>\n",
       "      <td>Medline; PMC; WHO</td>\n",
       "      <td>Genomic and Ancestral Variation Underlies the ...</td>\n",
       "      <td>10.3390/life11090921</td>\n",
       "      <td>PMC8470085</td>\n",
       "      <td>34575070</td>\n",
       "      <td>cc-by</td>\n",
       "      <td>The coronavirus disease (COVID-19) caused by t...</td>\n",
       "      <td>2021-09-05</td>\n",
       "      <td>...</td>\n",
       "      <td>NaN</td>\n",
       "      <td>NaN</td>\n",
       "      <td>document_parses/pdf_json/758f8b07a1fdd2360cfe6...</td>\n",
       "      <td>document_parses/pmc_json/PMC8470085.xml.json</td>\n",
       "      <td>https://doi.org/10.3390/life11090921; https://...</td>\n",
       "      <td>237934658.0</td>\n",
       "      <td></td>\n",
       "      <td>Since its outbreak in December 2019 in Wuhan, ...</td>\n",
       "      <td>PMC8470085</td>\n",
       "      <td>Since its outbreak in December 2019 in Wuhan, ...</td>\n",
       "    </tr>\n",
       "    <tr>\n",
       "      <th>2</th>\n",
       "      <td>48b1o0gi</td>\n",
       "      <td>a15ab5fcb5810f915d264d821083e15b4a85da8a</td>\n",
       "      <td>ArXiv</td>\n",
       "      <td>Stochastic subgradient for composite convex op...</td>\n",
       "      <td>NaN</td>\n",
       "      <td>NaN</td>\n",
       "      <td>NaN</td>\n",
       "      <td>arxiv</td>\n",
       "      <td>In this paper we consider optimization problem...</td>\n",
       "      <td>2022-04-18</td>\n",
       "      <td>...</td>\n",
       "      <td>NaN</td>\n",
       "      <td>2204.08204</td>\n",
       "      <td>document_parses/pdf_json/a15ab5fcb5810f915d264...</td>\n",
       "      <td>NaN</td>\n",
       "      <td>https://arxiv.org/pdf/2204.08204v1.pdf</td>\n",
       "      <td>248227747.0</td>\n",
       "      <td>In this paper we consider optimization problem...</td>\n",
       "      <td>The large sum of functions in the objective fu...</td>\n",
       "      <td>NaN</td>\n",
       "      <td>NaN</td>\n",
       "    </tr>\n",
       "    <tr>\n",
       "      <th>3</th>\n",
       "      <td>iglmkoyr</td>\n",
       "      <td>40ae528a88ff4b8b5566194209730b1c10471a14</td>\n",
       "      <td>Medline; PMC</td>\n",
       "      <td>Ultrasound-Guided Minimally Invasive Autopsy o...</td>\n",
       "      <td>10.1159/000514222</td>\n",
       "      <td>PMC8018195</td>\n",
       "      <td>33690234</td>\n",
       "      <td>no-cc</td>\n",
       "      <td>NaN</td>\n",
       "      <td>2021-03-09</td>\n",
       "      <td>...</td>\n",
       "      <td>NaN</td>\n",
       "      <td>NaN</td>\n",
       "      <td>document_parses/pdf_json/40ae528a88ff4b8b55661...</td>\n",
       "      <td>document_parses/pmc_json/PMC8018195.xml.json</td>\n",
       "      <td>https://www.ncbi.nlm.nih.gov/pubmed/33690234/;...</td>\n",
       "      <td>232196342.0</td>\n",
       "      <td></td>\n",
       "      <td>An outbreak of coronavirus disease in 2019 (CO...</td>\n",
       "      <td>PMC8018195</td>\n",
       "      <td>The authors have no conflicts of interest to d...</td>\n",
       "    </tr>\n",
       "    <tr>\n",
       "      <th>4</th>\n",
       "      <td>fucnn8lr</td>\n",
       "      <td>8dfddaea9bf1b9cdba23904c60907e1b1a1559a2</td>\n",
       "      <td>Medline; PMC</td>\n",
       "      <td>Ascending Aortic Calcification as a Potential ...</td>\n",
       "      <td>10.1155/2021/5526359</td>\n",
       "      <td>PMC8177974</td>\n",
       "      <td>34136118</td>\n",
       "      <td>cc-by</td>\n",
       "      <td>BACKGROUND: Identifying the factors related to...</td>\n",
       "      <td>2021-05-26</td>\n",
       "      <td>...</td>\n",
       "      <td>NaN</td>\n",
       "      <td>NaN</td>\n",
       "      <td>document_parses/pdf_json/8dfddaea9bf1b9cdba239...</td>\n",
       "      <td>document_parses/pmc_json/PMC8177974.xml.json</td>\n",
       "      <td>https://doi.org/10.1155/2021/5526359; https://...</td>\n",
       "      <td>235447645.0</td>\n",
       "      <td>Background. Identifying the factors related to...</td>\n",
       "      <td>Hip fractures are a severe health problem in p...</td>\n",
       "      <td>PMC8177974</td>\n",
       "      <td>Hip fractures are a severe health problem in p...</td>\n",
       "    </tr>\n",
       "    <tr>\n",
       "      <th>...</th>\n",
       "      <td>...</td>\n",
       "      <td>...</td>\n",
       "      <td>...</td>\n",
       "      <td>...</td>\n",
       "      <td>...</td>\n",
       "      <td>...</td>\n",
       "      <td>...</td>\n",
       "      <td>...</td>\n",
       "      <td>...</td>\n",
       "      <td>...</td>\n",
       "      <td>...</td>\n",
       "      <td>...</td>\n",
       "      <td>...</td>\n",
       "      <td>...</td>\n",
       "      <td>...</td>\n",
       "      <td>...</td>\n",
       "      <td>...</td>\n",
       "      <td>...</td>\n",
       "      <td>...</td>\n",
       "      <td>...</td>\n",
       "      <td>...</td>\n",
       "    </tr>\n",
       "    <tr>\n",
       "      <th>24995</th>\n",
       "      <td>tmh41n8s</td>\n",
       "      <td>2508c5de64605f470a35b6f3a0f98cbe765fe999</td>\n",
       "      <td>PMC</td>\n",
       "      <td>Pregnant Women and Endocrine Disruptors: Role ...</td>\n",
       "      <td>10.3390/cells11030495</td>\n",
       "      <td>PMC8834275</td>\n",
       "      <td>35159304</td>\n",
       "      <td>cc-by</td>\n",
       "      <td>In pregnant women, the lungs, skin and placent...</td>\n",
       "      <td>2022-01-31</td>\n",
       "      <td>...</td>\n",
       "      <td>NaN</td>\n",
       "      <td>NaN</td>\n",
       "      <td>document_parses/pdf_json/2508c5de64605f470a35b...</td>\n",
       "      <td>document_parses/pmc_json/PMC8834275.xml.json</td>\n",
       "      <td>https://www.ncbi.nlm.nih.gov/pmc/articles/PMC8...</td>\n",
       "      <td>NaN</td>\n",
       "      <td>Citation: Fouyet, S.; Olivier, E.; Leproux, P....</td>\n",
       "      <td>Endocrine-disrupting chemicals (EDCs) are defi...</td>\n",
       "      <td>PMC8834275</td>\n",
       "      <td>Endocrine-disrupting chemicals (EDCs) are defi...</td>\n",
       "    </tr>\n",
       "    <tr>\n",
       "      <th>24996</th>\n",
       "      <td>x3fbaugj</td>\n",
       "      <td>4a39d3fab4bfb8d0258c00d081f339f4d4411433</td>\n",
       "      <td>Elsevier; Medline; PMC; WHO</td>\n",
       "      <td>Sustaining progress towards malaria eliminatio...</td>\n",
       "      <td>10.1016/j.lanwpc.2022.100429</td>\n",
       "      <td>PMC9013518</td>\n",
       "      <td>35466325</td>\n",
       "      <td>no-cc</td>\n",
       "      <td>In Asia Pacific, several nations that were par...</td>\n",
       "      <td>2022-04-18</td>\n",
       "      <td>...</td>\n",
       "      <td>NaN</td>\n",
       "      <td>NaN</td>\n",
       "      <td>document_parses/pdf_json/4a39d3fab4bfb8d0258c0...</td>\n",
       "      <td>document_parses/pmc_json/PMC9013518.xml.json</td>\n",
       "      <td>https://doi.org/10.1016/j.lanwpc.2022.100429; ...</td>\n",
       "      <td>248219147.0</td>\n",
       "      <td>In Asia Pacific, several nations that were par...</td>\n",
       "      <td>At the ninth East Asia Summit (EAS) in 2014, h...</td>\n",
       "      <td>PMC9013518</td>\n",
       "      <td>At the ninth East Asia Summit (EAS) in 2014, h...</td>\n",
       "    </tr>\n",
       "    <tr>\n",
       "      <th>24997</th>\n",
       "      <td>wh41wczp</td>\n",
       "      <td>0b5e8c6fa299029beca996b95d1ea5382bc777e6</td>\n",
       "      <td>PMC</td>\n",
       "      <td>Federal Public Health Law</td>\n",
       "      <td>10.1016/b978-1-85617-547-0.00010-5</td>\n",
       "      <td>PMC7152008</td>\n",
       "      <td>NaN</td>\n",
       "      <td>no-cc</td>\n",
       "      <td>This chapter explains the origins and current ...</td>\n",
       "      <td>2010-03-17</td>\n",
       "      <td>...</td>\n",
       "      <td>NaN</td>\n",
       "      <td>NaN</td>\n",
       "      <td>document_parses/pdf_json/0b5e8c6fa299029beca99...</td>\n",
       "      <td>NaN</td>\n",
       "      <td>https://www.ncbi.nlm.nih.gov/pmc/articles/PMC7...</td>\n",
       "      <td>NaN</td>\n",
       "      <td></td>\n",
       "      <td>Together, this chapter and the next one will e...</td>\n",
       "      <td>NaN</td>\n",
       "      <td>NaN</td>\n",
       "    </tr>\n",
       "    <tr>\n",
       "      <th>24998</th>\n",
       "      <td>oye7272z</td>\n",
       "      <td>b3c51caa98b76bd97d62e3c000d54d21b52c342e</td>\n",
       "      <td>Elsevier; PMC</td>\n",
       "      <td>Maternal Attitudes and Intentions about the CO...</td>\n",
       "      <td>10.1016/j.pedhc.2022.05.015</td>\n",
       "      <td>PMC9130683</td>\n",
       "      <td>NaN</td>\n",
       "      <td>els-covid</td>\n",
       "      <td>The current study assessed maternal attitudes ...</td>\n",
       "      <td>2022-05-25</td>\n",
       "      <td>...</td>\n",
       "      <td>NaN</td>\n",
       "      <td>NaN</td>\n",
       "      <td>document_parses/pdf_json/b3c51caa98b76bd97d62e...</td>\n",
       "      <td>NaN</td>\n",
       "      <td>https://www.sciencedirect.com/science/article/...</td>\n",
       "      <td>249047210.0</td>\n",
       "      <td>The current study assessed maternal attitudes ...</td>\n",
       "      <td>conducted one of the most comprehensive studie...</td>\n",
       "      <td>NaN</td>\n",
       "      <td>NaN</td>\n",
       "    </tr>\n",
       "    <tr>\n",
       "      <th>24999</th>\n",
       "      <td>7t2zizq8</td>\n",
       "      <td>1e4edff0b6992fcb661f27019e80253e5a873ef1</td>\n",
       "      <td>Elsevier; Medline; PMC</td>\n",
       "      <td>COVID-19 infection with extensive thrombosis: ...</td>\n",
       "      <td>10.1016/j.ajem.2020.05.022</td>\n",
       "      <td>PMC7227523</td>\n",
       "      <td>32425319</td>\n",
       "      <td>no-cc</td>\n",
       "      <td>NaN</td>\n",
       "      <td>2020-05-15</td>\n",
       "      <td>...</td>\n",
       "      <td>NaN</td>\n",
       "      <td>NaN</td>\n",
       "      <td>document_parses/pdf_json/1e4edff0b6992fcb661f2...</td>\n",
       "      <td>document_parses/pmc_json/PMC7227523.xml.json</td>\n",
       "      <td>https://www.sciencedirect.com/science/article/...</td>\n",
       "      <td>218644058.0</td>\n",
       "      <td></td>\n",
       "      <td>J o u r n a l P r e -p r o o f Reports have be...</td>\n",
       "      <td>PMC7227523</td>\n",
       "      <td>None.$$$None.$$$MHM conceived and designed the...</td>\n",
       "    </tr>\n",
       "  </tbody>\n",
       "</table>\n",
       "<p>25000 rows × 23 columns</p>\n",
       "</div>"
      ],
      "text/plain": [
       "       cord_uid                                       sha  \\\n",
       "0      lepnladl  bb9e6ed5c0e9de74bfd98b8311b446cb3d9384bf   \n",
       "1      ubuyzmok  758f8b07a1fdd2360cfe66f478150eedc23f602e   \n",
       "2      48b1o0gi  a15ab5fcb5810f915d264d821083e15b4a85da8a   \n",
       "3      iglmkoyr  40ae528a88ff4b8b5566194209730b1c10471a14   \n",
       "4      fucnn8lr  8dfddaea9bf1b9cdba23904c60907e1b1a1559a2   \n",
       "...         ...                                       ...   \n",
       "24995  tmh41n8s  2508c5de64605f470a35b6f3a0f98cbe765fe999   \n",
       "24996  x3fbaugj  4a39d3fab4bfb8d0258c00d081f339f4d4411433   \n",
       "24997  wh41wczp  0b5e8c6fa299029beca996b95d1ea5382bc777e6   \n",
       "24998  oye7272z  b3c51caa98b76bd97d62e3c000d54d21b52c342e   \n",
       "24999  7t2zizq8  1e4edff0b6992fcb661f27019e80253e5a873ef1   \n",
       "\n",
       "                          source_x  \\\n",
       "0                Medline; PMC; WHO   \n",
       "1                Medline; PMC; WHO   \n",
       "2                            ArXiv   \n",
       "3                     Medline; PMC   \n",
       "4                     Medline; PMC   \n",
       "...                            ...   \n",
       "24995                          PMC   \n",
       "24996  Elsevier; Medline; PMC; WHO   \n",
       "24997                          PMC   \n",
       "24998                Elsevier; PMC   \n",
       "24999       Elsevier; Medline; PMC   \n",
       "\n",
       "                                                   title  \\\n",
       "0      SARS-CoV-2 Infection in Kidney Transplant Reci...   \n",
       "1      Genomic and Ancestral Variation Underlies the ...   \n",
       "2      Stochastic subgradient for composite convex op...   \n",
       "3      Ultrasound-Guided Minimally Invasive Autopsy o...   \n",
       "4      Ascending Aortic Calcification as a Potential ...   \n",
       "...                                                  ...   \n",
       "24995  Pregnant Women and Endocrine Disruptors: Role ...   \n",
       "24996  Sustaining progress towards malaria eliminatio...   \n",
       "24997                          Federal Public Health Law   \n",
       "24998  Maternal Attitudes and Intentions about the CO...   \n",
       "24999  COVID-19 infection with extensive thrombosis: ...   \n",
       "\n",
       "                                      doi       pmcid pubmed_id    license  \\\n",
       "0                    10.1155/2021/2243095  PMC8570907  34745662      cc-by   \n",
       "1                    10.3390/life11090921  PMC8470085  34575070      cc-by   \n",
       "2                                     NaN         NaN       NaN      arxiv   \n",
       "3                       10.1159/000514222  PMC8018195  33690234      no-cc   \n",
       "4                    10.1155/2021/5526359  PMC8177974  34136118      cc-by   \n",
       "...                                   ...         ...       ...        ...   \n",
       "24995               10.3390/cells11030495  PMC8834275  35159304      cc-by   \n",
       "24996        10.1016/j.lanwpc.2022.100429  PMC9013518  35466325      no-cc   \n",
       "24997  10.1016/b978-1-85617-547-0.00010-5  PMC7152008       NaN      no-cc   \n",
       "24998         10.1016/j.pedhc.2022.05.015  PMC9130683       NaN  els-covid   \n",
       "24999          10.1016/j.ajem.2020.05.022  PMC7227523  32425319      no-cc   \n",
       "\n",
       "                                              abstract_x publish_time  ...  \\\n",
       "0      INTRODUCTION: The second wave of COVID-19 has ...   2021-11-05  ...   \n",
       "1      The coronavirus disease (COVID-19) caused by t...   2021-09-05  ...   \n",
       "2      In this paper we consider optimization problem...   2022-04-18  ...   \n",
       "3                                                    NaN   2021-03-09  ...   \n",
       "4      BACKGROUND: Identifying the factors related to...   2021-05-26  ...   \n",
       "...                                                  ...          ...  ...   \n",
       "24995  In pregnant women, the lungs, skin and placent...   2022-01-31  ...   \n",
       "24996  In Asia Pacific, several nations that were par...   2022-04-18  ...   \n",
       "24997  This chapter explains the origins and current ...   2010-03-17  ...   \n",
       "24998  The current study assessed maternal attitudes ...   2022-05-25  ...   \n",
       "24999                                                NaN   2020-05-15  ...   \n",
       "\n",
       "      who_covidence_id    arxiv_id  \\\n",
       "0                  NaN         NaN   \n",
       "1                  NaN         NaN   \n",
       "2                  NaN  2204.08204   \n",
       "3                  NaN         NaN   \n",
       "4                  NaN         NaN   \n",
       "...                ...         ...   \n",
       "24995              NaN         NaN   \n",
       "24996              NaN         NaN   \n",
       "24997              NaN         NaN   \n",
       "24998              NaN         NaN   \n",
       "24999              NaN         NaN   \n",
       "\n",
       "                                          pdf_json_files  \\\n",
       "0      document_parses/pdf_json/bb9e6ed5c0e9de74bfd98...   \n",
       "1      document_parses/pdf_json/758f8b07a1fdd2360cfe6...   \n",
       "2      document_parses/pdf_json/a15ab5fcb5810f915d264...   \n",
       "3      document_parses/pdf_json/40ae528a88ff4b8b55661...   \n",
       "4      document_parses/pdf_json/8dfddaea9bf1b9cdba239...   \n",
       "...                                                  ...   \n",
       "24995  document_parses/pdf_json/2508c5de64605f470a35b...   \n",
       "24996  document_parses/pdf_json/4a39d3fab4bfb8d0258c0...   \n",
       "24997  document_parses/pdf_json/0b5e8c6fa299029beca99...   \n",
       "24998  document_parses/pdf_json/b3c51caa98b76bd97d62e...   \n",
       "24999  document_parses/pdf_json/1e4edff0b6992fcb661f2...   \n",
       "\n",
       "                                     pmc_json_files  \\\n",
       "0      document_parses/pmc_json/PMC8570907.xml.json   \n",
       "1      document_parses/pmc_json/PMC8470085.xml.json   \n",
       "2                                               NaN   \n",
       "3      document_parses/pmc_json/PMC8018195.xml.json   \n",
       "4      document_parses/pmc_json/PMC8177974.xml.json   \n",
       "...                                             ...   \n",
       "24995  document_parses/pmc_json/PMC8834275.xml.json   \n",
       "24996  document_parses/pmc_json/PMC9013518.xml.json   \n",
       "24997                                           NaN   \n",
       "24998                                           NaN   \n",
       "24999  document_parses/pmc_json/PMC7227523.xml.json   \n",
       "\n",
       "                                                     url        s2_id  \\\n",
       "0      https://www.ncbi.nlm.nih.gov/pubmed/34745662/;...  243800529.0   \n",
       "1      https://doi.org/10.3390/life11090921; https://...  237934658.0   \n",
       "2                 https://arxiv.org/pdf/2204.08204v1.pdf  248227747.0   \n",
       "3      https://www.ncbi.nlm.nih.gov/pubmed/33690234/;...  232196342.0   \n",
       "4      https://doi.org/10.1155/2021/5526359; https://...  235447645.0   \n",
       "...                                                  ...          ...   \n",
       "24995  https://www.ncbi.nlm.nih.gov/pmc/articles/PMC8...          NaN   \n",
       "24996  https://doi.org/10.1016/j.lanwpc.2022.100429; ...  248219147.0   \n",
       "24997  https://www.ncbi.nlm.nih.gov/pmc/articles/PMC7...          NaN   \n",
       "24998  https://www.sciencedirect.com/science/article/...  249047210.0   \n",
       "24999  https://www.sciencedirect.com/science/article/...  218644058.0   \n",
       "\n",
       "                                              abstract_y  \\\n",
       "0      Introduction. e second wave of COVID-19 has sp...   \n",
       "1                                                          \n",
       "2      In this paper we consider optimization problem...   \n",
       "3                                                          \n",
       "4      Background. Identifying the factors related to...   \n",
       "...                                                  ...   \n",
       "24995  Citation: Fouyet, S.; Olivier, E.; Leproux, P....   \n",
       "24996  In Asia Pacific, several nations that were par...   \n",
       "24997                                                      \n",
       "24998  The current study assessed maternal attitudes ...   \n",
       "24999                                                      \n",
       "\n",
       "                                             body_text_x    paper_id  \\\n",
       "0      Severe acute respiratory syndrome corona virus...  PMC8570907   \n",
       "1      Since its outbreak in December 2019 in Wuhan, ...  PMC8470085   \n",
       "2      The large sum of functions in the objective fu...         NaN   \n",
       "3      An outbreak of coronavirus disease in 2019 (CO...  PMC8018195   \n",
       "4      Hip fractures are a severe health problem in p...  PMC8177974   \n",
       "...                                                  ...         ...   \n",
       "24995  Endocrine-disrupting chemicals (EDCs) are defi...  PMC8834275   \n",
       "24996  At the ninth East Asia Summit (EAS) in 2014, h...  PMC9013518   \n",
       "24997  Together, this chapter and the next one will e...         NaN   \n",
       "24998  conducted one of the most comprehensive studie...         NaN   \n",
       "24999  J o u r n a l P r e -p r o o f Reports have be...  PMC7227523   \n",
       "\n",
       "                                             body_text_y  \n",
       "0      Severe acute respiratory syndrome corona virus...  \n",
       "1      Since its outbreak in December 2019 in Wuhan, ...  \n",
       "2                                                    NaN  \n",
       "3      The authors have no conflicts of interest to d...  \n",
       "4      Hip fractures are a severe health problem in p...  \n",
       "...                                                  ...  \n",
       "24995  Endocrine-disrupting chemicals (EDCs) are defi...  \n",
       "24996  At the ninth East Asia Summit (EAS) in 2014, h...  \n",
       "24997                                                NaN  \n",
       "24998                                                NaN  \n",
       "24999  None.$$$None.$$$MHM conceived and designed the...  \n",
       "\n",
       "[25000 rows x 23 columns]"
      ]
     },
     "execution_count": 27,
     "metadata": {},
     "output_type": "execute_result"
    }
   ],
   "source": [
    "df_merged = pd.merge(df_merged, df_pmc,left_on='pmcid',right_on='paper_id',how = 'left')\n",
    "df_merged"
   ]
  },
  {
   "cell_type": "code",
   "execution_count": 28,
   "metadata": {},
   "outputs": [
    {
     "data": {
      "text/plain": [
       "(25000, 23)"
      ]
     },
     "execution_count": 28,
     "metadata": {},
     "output_type": "execute_result"
    }
   ],
   "source": [
    "df_merged.shape"
   ]
  },
  {
   "attachments": {},
   "cell_type": "markdown",
   "metadata": {},
   "source": [
    "## Data cleaning and preprocessing"
   ]
  },
  {
   "cell_type": "code",
   "execution_count": 29,
   "metadata": {},
   "outputs": [
    {
     "data": {
      "text/plain": [
       "(22773, 23)"
      ]
     },
     "execution_count": 29,
     "metadata": {},
     "output_type": "execute_result"
    }
   ],
   "source": [
    "df_merged[df_merged.abstract_x != df_merged.abstract_y].shape"
   ]
  },
  {
   "cell_type": "code",
   "execution_count": 30,
   "metadata": {},
   "outputs": [
    {
     "data": {
      "text/plain": [
       "3202"
      ]
     },
     "execution_count": 30,
     "metadata": {},
     "output_type": "execute_result"
    }
   ],
   "source": [
    "df_merged.abstract_x.isnull().sum()"
   ]
  },
  {
   "cell_type": "code",
   "execution_count": 31,
   "metadata": {},
   "outputs": [
    {
     "data": {
      "text/plain": [
       "1645"
      ]
     },
     "execution_count": 31,
     "metadata": {},
     "output_type": "execute_result"
    }
   ],
   "source": [
    "df_merged.abstract_y.isnull().sum()"
   ]
  },
  {
   "cell_type": "code",
   "execution_count": 18,
   "metadata": {},
   "outputs": [
    {
     "data": {
      "text/plain": [
       "4864"
      ]
     },
     "execution_count": 18,
     "metadata": {},
     "output_type": "execute_result"
    }
   ],
   "source": [
    "3235+1629"
   ]
  },
  {
   "cell_type": "code",
   "execution_count": 32,
   "metadata": {},
   "outputs": [],
   "source": [
    "df_merged['abstract_y'] = df_merged['abstract_y'].astype(str)\n",
    "df_merged['abstract_y'] = np.where(df_merged['abstract_y'].map(len)>50,df_merged['abstract_y'],'na')"
   ]
  },
  {
   "cell_type": "code",
   "execution_count": 33,
   "metadata": {},
   "outputs": [],
   "source": [
    "df_merged.loc[df_merged.abstract_x.isnull() & (df_merged.abstract_y != 'na'),'abstract_x'] = df_merged[df_merged.abstract_x.isnull() & (df_merged.abstract_y != 'na')].abstract_y"
   ]
  },
  {
   "cell_type": "code",
   "execution_count": 34,
   "metadata": {},
   "outputs": [
    {
     "data": {
      "text/plain": [
       "2622"
      ]
     },
     "execution_count": 34,
     "metadata": {},
     "output_type": "execute_result"
    }
   ],
   "source": [
    "df_merged.abstract_x.isnull().sum()"
   ]
  },
  {
   "cell_type": "code",
   "execution_count": 35,
   "metadata": {},
   "outputs": [
    {
     "data": {
      "text/plain": [
       "0"
      ]
     },
     "execution_count": 35,
     "metadata": {},
     "output_type": "execute_result"
    }
   ],
   "source": [
    "df_merged.abstract_y.isnull().sum()"
   ]
  },
  {
   "cell_type": "code",
   "execution_count": 36,
   "metadata": {},
   "outputs": [],
   "source": [
    "df_merged.rename(columns={'abstract_x':'abstract'},inplace=True)"
   ]
  },
  {
   "cell_type": "code",
   "execution_count": 37,
   "metadata": {},
   "outputs": [
    {
     "data": {
      "text/plain": [
       "Index(['cord_uid', 'sha', 'source_x', 'title', 'doi', 'pmcid', 'pubmed_id',\n",
       "       'license', 'abstract', 'publish_time', 'authors', 'journal', 'mag_id',\n",
       "       'who_covidence_id', 'arxiv_id', 'pdf_json_files', 'pmc_json_files',\n",
       "       'url', 's2_id', 'abstract_y', 'body_text_x', 'paper_id', 'body_text_y'],\n",
       "      dtype='object')"
      ]
     },
     "execution_count": 37,
     "metadata": {},
     "output_type": "execute_result"
    }
   ],
   "source": [
    "df_merged.columns"
   ]
  },
  {
   "cell_type": "code",
   "execution_count": 38,
   "metadata": {},
   "outputs": [],
   "source": [
    "df_merged = df_merged.drop(['abstract_y'],axis = 1)"
   ]
  },
  {
   "cell_type": "code",
   "execution_count": 39,
   "metadata": {},
   "outputs": [
    {
     "data": {
      "text/plain": [
       "Index(['cord_uid', 'sha', 'source_x', 'title', 'doi', 'pmcid', 'pubmed_id',\n",
       "       'license', 'abstract', 'publish_time', 'authors', 'journal', 'mag_id',\n",
       "       'who_covidence_id', 'arxiv_id', 'pdf_json_files', 'pmc_json_files',\n",
       "       'url', 's2_id', 'body_text_x', 'paper_id', 'body_text_y'],\n",
       "      dtype='object')"
      ]
     },
     "execution_count": 39,
     "metadata": {},
     "output_type": "execute_result"
    }
   ],
   "source": [
    "df_merged.columns"
   ]
  },
  {
   "cell_type": "code",
   "execution_count": 40,
   "metadata": {},
   "outputs": [
    {
     "data": {
      "text/plain": [
       "25000"
      ]
     },
     "execution_count": 40,
     "metadata": {},
     "output_type": "execute_result"
    }
   ],
   "source": [
    "(df_merged.body_text_x != df_merged.body_text_y).sum()"
   ]
  },
  {
   "cell_type": "code",
   "execution_count": 41,
   "metadata": {},
   "outputs": [
    {
     "data": {
      "text/plain": [
       "1645"
      ]
     },
     "execution_count": 41,
     "metadata": {},
     "output_type": "execute_result"
    }
   ],
   "source": [
    "df_merged.body_text_x.isnull().sum()"
   ]
  },
  {
   "cell_type": "code",
   "execution_count": 42,
   "metadata": {},
   "outputs": [
    {
     "data": {
      "text/plain": [
       "4921"
      ]
     },
     "execution_count": 42,
     "metadata": {},
     "output_type": "execute_result"
    }
   ],
   "source": [
    "df_merged.body_text_y.isnull().sum()"
   ]
  },
  {
   "cell_type": "code",
   "execution_count": 43,
   "metadata": {},
   "outputs": [
    {
     "data": {
      "text/plain": [
       "(1553, 22)"
      ]
     },
     "execution_count": 43,
     "metadata": {},
     "output_type": "execute_result"
    }
   ],
   "source": [
    "df_merged[df_merged.body_text_x.isnull() & df_merged.body_text_y.notnull()].shape"
   ]
  },
  {
   "cell_type": "code",
   "execution_count": 44,
   "metadata": {},
   "outputs": [],
   "source": [
    "df_merged.loc[df_merged.body_text_y.notnull(),'body_text_x'] = df_merged.loc[df_merged.body_text_y.notnull(),'body_text_y']"
   ]
  },
  {
   "cell_type": "code",
   "execution_count": 45,
   "metadata": {},
   "outputs": [
    {
     "data": {
      "text/plain": [
       "92"
      ]
     },
     "execution_count": 45,
     "metadata": {},
     "output_type": "execute_result"
    }
   ],
   "source": [
    "\n",
    "df_merged.body_text_x.isnull().sum()"
   ]
  },
  {
   "cell_type": "code",
   "execution_count": 46,
   "metadata": {},
   "outputs": [
    {
     "data": {
      "text/plain": [
       "Index(['cord_uid', 'sha', 'source_x', 'title', 'doi', 'pmcid', 'pubmed_id',\n",
       "       'license', 'abstract', 'publish_time', 'authors', 'journal', 'mag_id',\n",
       "       'who_covidence_id', 'arxiv_id', 'pdf_json_files', 'pmc_json_files',\n",
       "       'url', 's2_id', 'body_text_x', 'paper_id', 'body_text_y'],\n",
       "      dtype='object')"
      ]
     },
     "execution_count": 46,
     "metadata": {},
     "output_type": "execute_result"
    }
   ],
   "source": [
    "df_merged.columns"
   ]
  },
  {
   "cell_type": "code",
   "execution_count": 47,
   "metadata": {},
   "outputs": [],
   "source": [
    "df_merged.rename(columns = {'body_text_x':'body_text'},inplace=True)\n",
    "\n",
    "df_merged = df_merged.drop(['body_text_y'],axis=1)"
   ]
  },
  {
   "cell_type": "code",
   "execution_count": 48,
   "metadata": {},
   "outputs": [
    {
     "data": {
      "text/plain": [
       "Index(['cord_uid', 'sha', 'source_x', 'title', 'doi', 'pmcid', 'pubmed_id',\n",
       "       'license', 'abstract', 'publish_time', 'authors', 'journal', 'mag_id',\n",
       "       'who_covidence_id', 'arxiv_id', 'pdf_json_files', 'pmc_json_files',\n",
       "       'url', 's2_id', 'body_text', 'paper_id'],\n",
       "      dtype='object')"
      ]
     },
     "execution_count": 48,
     "metadata": {},
     "output_type": "execute_result"
    }
   ],
   "source": [
    "df_merged.columns"
   ]
  },
  {
   "cell_type": "code",
   "execution_count": 49,
   "metadata": {},
   "outputs": [],
   "source": [
    "df_final = df_merged[['sha','title','abstract','publish_time','authors','url','body_text']]"
   ]
  },
  {
   "cell_type": "code",
   "execution_count": 50,
   "metadata": {},
   "outputs": [
    {
     "data": {
      "text/html": [
       "<div>\n",
       "<style scoped>\n",
       "    .dataframe tbody tr th:only-of-type {\n",
       "        vertical-align: middle;\n",
       "    }\n",
       "\n",
       "    .dataframe tbody tr th {\n",
       "        vertical-align: top;\n",
       "    }\n",
       "\n",
       "    .dataframe thead th {\n",
       "        text-align: right;\n",
       "    }\n",
       "</style>\n",
       "<table border=\"1\" class=\"dataframe\">\n",
       "  <thead>\n",
       "    <tr style=\"text-align: right;\">\n",
       "      <th></th>\n",
       "      <th>sha</th>\n",
       "      <th>title</th>\n",
       "      <th>abstract</th>\n",
       "      <th>publish_time</th>\n",
       "      <th>authors</th>\n",
       "      <th>url</th>\n",
       "      <th>body_text</th>\n",
       "    </tr>\n",
       "  </thead>\n",
       "  <tbody>\n",
       "    <tr>\n",
       "      <th>0</th>\n",
       "      <td>bb9e6ed5c0e9de74bfd98b8311b446cb3d9384bf</td>\n",
       "      <td>SARS-CoV-2 Infection in Kidney Transplant Reci...</td>\n",
       "      <td>INTRODUCTION: The second wave of COVID-19 has ...</td>\n",
       "      <td>2021-11-05</td>\n",
       "      <td>Tatapudi, Ravi Raju; Kopparti, Venkateswara Ra...</td>\n",
       "      <td>https://www.ncbi.nlm.nih.gov/pubmed/34745662/;...</td>\n",
       "      <td>Severe acute respiratory syndrome corona virus...</td>\n",
       "    </tr>\n",
       "    <tr>\n",
       "      <th>1</th>\n",
       "      <td>758f8b07a1fdd2360cfe66f478150eedc23f602e</td>\n",
       "      <td>Genomic and Ancestral Variation Underlies the ...</td>\n",
       "      <td>The coronavirus disease (COVID-19) caused by t...</td>\n",
       "      <td>2021-09-05</td>\n",
       "      <td>Upadhyai, Priyanka; Suresh, Gokul; Parit, Rahu...</td>\n",
       "      <td>https://doi.org/10.3390/life11090921; https://...</td>\n",
       "      <td>Since its outbreak in December 2019 in Wuhan, ...</td>\n",
       "    </tr>\n",
       "    <tr>\n",
       "      <th>2</th>\n",
       "      <td>a15ab5fcb5810f915d264d821083e15b4a85da8a</td>\n",
       "      <td>Stochastic subgradient for composite convex op...</td>\n",
       "      <td>In this paper we consider optimization problem...</td>\n",
       "      <td>2022-04-18</td>\n",
       "      <td>Necoara, Ion; Singh, Nitesh Kumar</td>\n",
       "      <td>https://arxiv.org/pdf/2204.08204v1.pdf</td>\n",
       "      <td>The large sum of functions in the objective fu...</td>\n",
       "    </tr>\n",
       "    <tr>\n",
       "      <th>3</th>\n",
       "      <td>40ae528a88ff4b8b5566194209730b1c10471a14</td>\n",
       "      <td>Ultrasound-Guided Minimally Invasive Autopsy o...</td>\n",
       "      <td>NaN</td>\n",
       "      <td>2021-03-09</td>\n",
       "      <td>Nucci, Ricardo Aparecido Baptista; Dolhnikoff,...</td>\n",
       "      <td>https://www.ncbi.nlm.nih.gov/pubmed/33690234/;...</td>\n",
       "      <td>The authors have no conflicts of interest to d...</td>\n",
       "    </tr>\n",
       "    <tr>\n",
       "      <th>4</th>\n",
       "      <td>8dfddaea9bf1b9cdba23904c60907e1b1a1559a2</td>\n",
       "      <td>Ascending Aortic Calcification as a Potential ...</td>\n",
       "      <td>BACKGROUND: Identifying the factors related to...</td>\n",
       "      <td>2021-05-26</td>\n",
       "      <td>Bekki, Hirofumi; Arizono, Takeshi; Suzuki, Yuk...</td>\n",
       "      <td>https://doi.org/10.1155/2021/5526359; https://...</td>\n",
       "      <td>Hip fractures are a severe health problem in p...</td>\n",
       "    </tr>\n",
       "  </tbody>\n",
       "</table>\n",
       "</div>"
      ],
      "text/plain": [
       "                                        sha  \\\n",
       "0  bb9e6ed5c0e9de74bfd98b8311b446cb3d9384bf   \n",
       "1  758f8b07a1fdd2360cfe66f478150eedc23f602e   \n",
       "2  a15ab5fcb5810f915d264d821083e15b4a85da8a   \n",
       "3  40ae528a88ff4b8b5566194209730b1c10471a14   \n",
       "4  8dfddaea9bf1b9cdba23904c60907e1b1a1559a2   \n",
       "\n",
       "                                               title  \\\n",
       "0  SARS-CoV-2 Infection in Kidney Transplant Reci...   \n",
       "1  Genomic and Ancestral Variation Underlies the ...   \n",
       "2  Stochastic subgradient for composite convex op...   \n",
       "3  Ultrasound-Guided Minimally Invasive Autopsy o...   \n",
       "4  Ascending Aortic Calcification as a Potential ...   \n",
       "\n",
       "                                            abstract publish_time  \\\n",
       "0  INTRODUCTION: The second wave of COVID-19 has ...   2021-11-05   \n",
       "1  The coronavirus disease (COVID-19) caused by t...   2021-09-05   \n",
       "2  In this paper we consider optimization problem...   2022-04-18   \n",
       "3                                                NaN   2021-03-09   \n",
       "4  BACKGROUND: Identifying the factors related to...   2021-05-26   \n",
       "\n",
       "                                             authors  \\\n",
       "0  Tatapudi, Ravi Raju; Kopparti, Venkateswara Ra...   \n",
       "1  Upadhyai, Priyanka; Suresh, Gokul; Parit, Rahu...   \n",
       "2                  Necoara, Ion; Singh, Nitesh Kumar   \n",
       "3  Nucci, Ricardo Aparecido Baptista; Dolhnikoff,...   \n",
       "4  Bekki, Hirofumi; Arizono, Takeshi; Suzuki, Yuk...   \n",
       "\n",
       "                                                 url  \\\n",
       "0  https://www.ncbi.nlm.nih.gov/pubmed/34745662/;...   \n",
       "1  https://doi.org/10.3390/life11090921; https://...   \n",
       "2             https://arxiv.org/pdf/2204.08204v1.pdf   \n",
       "3  https://www.ncbi.nlm.nih.gov/pubmed/33690234/;...   \n",
       "4  https://doi.org/10.1155/2021/5526359; https://...   \n",
       "\n",
       "                                           body_text  \n",
       "0  Severe acute respiratory syndrome corona virus...  \n",
       "1  Since its outbreak in December 2019 in Wuhan, ...  \n",
       "2  The large sum of functions in the objective fu...  \n",
       "3  The authors have no conflicts of interest to d...  \n",
       "4  Hip fractures are a severe health problem in p...  "
      ]
     },
     "execution_count": 50,
     "metadata": {},
     "output_type": "execute_result"
    }
   ],
   "source": [
    "df_final.head()"
   ]
  },
  {
   "cell_type": "code",
   "execution_count": 51,
   "metadata": {},
   "outputs": [
    {
     "data": {
      "text/plain": [
       "sha               0\n",
       "title             0\n",
       "abstract          0\n",
       "publish_time      0\n",
       "authors         114\n",
       "url               0\n",
       "body_text         0\n",
       "dtype: int64"
      ]
     },
     "execution_count": 51,
     "metadata": {},
     "output_type": "execute_result"
    }
   ],
   "source": [
    "df_final = df_final.dropna(axis=0,subset=['abstract','body_text'])\n",
    "df_final.isnull().sum()"
   ]
  },
  {
   "cell_type": "code",
   "execution_count": 52,
   "metadata": {},
   "outputs": [
    {
     "data": {
      "text/plain": [
       "(22301, 7)"
      ]
     },
     "execution_count": 52,
     "metadata": {},
     "output_type": "execute_result"
    }
   ],
   "source": [
    "df_final.shape"
   ]
  },
  {
   "cell_type": "code",
   "execution_count": 53,
   "metadata": {},
   "outputs": [],
   "source": [
    "df_final.to_csv('Final_CORD_19_data.csv',index=False)"
   ]
  },
  {
   "cell_type": "code",
   "execution_count": 54,
   "metadata": {},
   "outputs": [
    {
     "data": {
      "text/html": [
       "<div>\n",
       "<style scoped>\n",
       "    .dataframe tbody tr th:only-of-type {\n",
       "        vertical-align: middle;\n",
       "    }\n",
       "\n",
       "    .dataframe tbody tr th {\n",
       "        vertical-align: top;\n",
       "    }\n",
       "\n",
       "    .dataframe thead th {\n",
       "        text-align: right;\n",
       "    }\n",
       "</style>\n",
       "<table border=\"1\" class=\"dataframe\">\n",
       "  <thead>\n",
       "    <tr style=\"text-align: right;\">\n",
       "      <th></th>\n",
       "      <th>sha</th>\n",
       "      <th>title</th>\n",
       "      <th>abstract</th>\n",
       "      <th>publish_time</th>\n",
       "      <th>authors</th>\n",
       "      <th>url</th>\n",
       "      <th>body_text</th>\n",
       "    </tr>\n",
       "  </thead>\n",
       "  <tbody>\n",
       "    <tr>\n",
       "      <th>0</th>\n",
       "      <td>bb9e6ed5c0e9de74bfd98b8311b446cb3d9384bf</td>\n",
       "      <td>SARS-CoV-2 Infection in Kidney Transplant Reci...</td>\n",
       "      <td>INTRODUCTION: The second wave of COVID-19 has ...</td>\n",
       "      <td>2021-11-05</td>\n",
       "      <td>Tatapudi, Ravi Raju; Kopparti, Venkateswara Ra...</td>\n",
       "      <td>https://www.ncbi.nlm.nih.gov/pubmed/34745662/;...</td>\n",
       "      <td>Severe acute respiratory syndrome corona virus...</td>\n",
       "    </tr>\n",
       "    <tr>\n",
       "      <th>1</th>\n",
       "      <td>758f8b07a1fdd2360cfe66f478150eedc23f602e</td>\n",
       "      <td>Genomic and Ancestral Variation Underlies the ...</td>\n",
       "      <td>The coronavirus disease (COVID-19) caused by t...</td>\n",
       "      <td>2021-09-05</td>\n",
       "      <td>Upadhyai, Priyanka; Suresh, Gokul; Parit, Rahu...</td>\n",
       "      <td>https://doi.org/10.3390/life11090921; https://...</td>\n",
       "      <td>Since its outbreak in December 2019 in Wuhan, ...</td>\n",
       "    </tr>\n",
       "    <tr>\n",
       "      <th>2</th>\n",
       "      <td>a15ab5fcb5810f915d264d821083e15b4a85da8a</td>\n",
       "      <td>Stochastic subgradient for composite convex op...</td>\n",
       "      <td>In this paper we consider optimization problem...</td>\n",
       "      <td>2022-04-18</td>\n",
       "      <td>Necoara, Ion; Singh, Nitesh Kumar</td>\n",
       "      <td>https://arxiv.org/pdf/2204.08204v1.pdf</td>\n",
       "      <td>The large sum of functions in the objective fu...</td>\n",
       "    </tr>\n",
       "    <tr>\n",
       "      <th>4</th>\n",
       "      <td>8dfddaea9bf1b9cdba23904c60907e1b1a1559a2</td>\n",
       "      <td>Ascending Aortic Calcification as a Potential ...</td>\n",
       "      <td>BACKGROUND: Identifying the factors related to...</td>\n",
       "      <td>2021-05-26</td>\n",
       "      <td>Bekki, Hirofumi; Arizono, Takeshi; Suzuki, Yuk...</td>\n",
       "      <td>https://doi.org/10.1155/2021/5526359; https://...</td>\n",
       "      <td>Hip fractures are a severe health problem in p...</td>\n",
       "    </tr>\n",
       "    <tr>\n",
       "      <th>5</th>\n",
       "      <td>e6ab92529dce158c7046d4d4adba4b998eca9179</td>\n",
       "      <td>Universal Early Coarsening of Quenched Bose Gases</td>\n",
       "      <td>We investigate the early coarsening dynamics o...</td>\n",
       "      <td>2021-12-10</td>\n",
       "      <td>Goo, Junhong; Lee, Yangheon; Lim, Younghoon; B...</td>\n",
       "      <td>https://www.ncbi.nlm.nih.gov/pubmed/35426709/;...</td>\n",
       "      <td>When a system crosses a symmetry-breaking phas...</td>\n",
       "    </tr>\n",
       "  </tbody>\n",
       "</table>\n",
       "</div>"
      ],
      "text/plain": [
       "                                        sha  \\\n",
       "0  bb9e6ed5c0e9de74bfd98b8311b446cb3d9384bf   \n",
       "1  758f8b07a1fdd2360cfe66f478150eedc23f602e   \n",
       "2  a15ab5fcb5810f915d264d821083e15b4a85da8a   \n",
       "4  8dfddaea9bf1b9cdba23904c60907e1b1a1559a2   \n",
       "5  e6ab92529dce158c7046d4d4adba4b998eca9179   \n",
       "\n",
       "                                               title  \\\n",
       "0  SARS-CoV-2 Infection in Kidney Transplant Reci...   \n",
       "1  Genomic and Ancestral Variation Underlies the ...   \n",
       "2  Stochastic subgradient for composite convex op...   \n",
       "4  Ascending Aortic Calcification as a Potential ...   \n",
       "5  Universal Early Coarsening of Quenched Bose Gases   \n",
       "\n",
       "                                            abstract publish_time  \\\n",
       "0  INTRODUCTION: The second wave of COVID-19 has ...   2021-11-05   \n",
       "1  The coronavirus disease (COVID-19) caused by t...   2021-09-05   \n",
       "2  In this paper we consider optimization problem...   2022-04-18   \n",
       "4  BACKGROUND: Identifying the factors related to...   2021-05-26   \n",
       "5  We investigate the early coarsening dynamics o...   2021-12-10   \n",
       "\n",
       "                                             authors  \\\n",
       "0  Tatapudi, Ravi Raju; Kopparti, Venkateswara Ra...   \n",
       "1  Upadhyai, Priyanka; Suresh, Gokul; Parit, Rahu...   \n",
       "2                  Necoara, Ion; Singh, Nitesh Kumar   \n",
       "4  Bekki, Hirofumi; Arizono, Takeshi; Suzuki, Yuk...   \n",
       "5  Goo, Junhong; Lee, Yangheon; Lim, Younghoon; B...   \n",
       "\n",
       "                                                 url  \\\n",
       "0  https://www.ncbi.nlm.nih.gov/pubmed/34745662/;...   \n",
       "1  https://doi.org/10.3390/life11090921; https://...   \n",
       "2             https://arxiv.org/pdf/2204.08204v1.pdf   \n",
       "4  https://doi.org/10.1155/2021/5526359; https://...   \n",
       "5  https://www.ncbi.nlm.nih.gov/pubmed/35426709/;...   \n",
       "\n",
       "                                           body_text  \n",
       "0  Severe acute respiratory syndrome corona virus...  \n",
       "1  Since its outbreak in December 2019 in Wuhan, ...  \n",
       "2  The large sum of functions in the objective fu...  \n",
       "4  Hip fractures are a severe health problem in p...  \n",
       "5  When a system crosses a symmetry-breaking phas...  "
      ]
     },
     "execution_count": 54,
     "metadata": {},
     "output_type": "execute_result"
    }
   ],
   "source": [
    "df_final.head()"
   ]
  },
  {
   "cell_type": "code",
   "execution_count": null,
   "metadata": {},
   "outputs": [],
   "source": []
  }
 ],
 "metadata": {
  "kernelspec": {
   "display_name": "base",
   "language": "python",
   "name": "python3"
  },
  "language_info": {
   "codemirror_mode": {
    "name": "ipython",
    "version": 3
   },
   "file_extension": ".py",
   "mimetype": "text/x-python",
   "name": "python",
   "nbconvert_exporter": "python",
   "pygments_lexer": "ipython3",
   "version": "3.9.13"
  },
  "orig_nbformat": 4
 },
 "nbformat": 4,
 "nbformat_minor": 2
}
